{
 "cells": [
  {
   "cell_type": "code",
   "execution_count": 1,
   "id": "c38a2ee8-16c4-4119-9eb1-75b30d2b7b12",
   "metadata": {
    "vscode": {
     "languageId": "r"
    }
   },
   "outputs": [
    {
     "name": "stderr",
     "output_type": "stream",
     "text": [
      "── \u001b[1mAttaching packages\u001b[22m ─────────────────────────────────────── tidyverse 1.3.1 ──\n",
      "\n",
      "\u001b[32m✔\u001b[39m \u001b[34mggplot2\u001b[39m 3.3.6     \u001b[32m✔\u001b[39m \u001b[34mpurrr  \u001b[39m 0.3.4\n",
      "\u001b[32m✔\u001b[39m \u001b[34mtibble \u001b[39m 3.1.7     \u001b[32m✔\u001b[39m \u001b[34mdplyr  \u001b[39m 1.0.9\n",
      "\u001b[32m✔\u001b[39m \u001b[34mtidyr  \u001b[39m 1.2.0     \u001b[32m✔\u001b[39m \u001b[34mstringr\u001b[39m 1.4.0\n",
      "\u001b[32m✔\u001b[39m \u001b[34mreadr  \u001b[39m 2.1.2     \u001b[32m✔\u001b[39m \u001b[34mforcats\u001b[39m 0.5.1\n",
      "\n",
      "── \u001b[1mConflicts\u001b[22m ────────────────────────────────────────── tidyverse_conflicts() ──\n",
      "\u001b[31m✖\u001b[39m \u001b[34mdplyr\u001b[39m::\u001b[32mfilter()\u001b[39m masks \u001b[34mstats\u001b[39m::filter()\n",
      "\u001b[31m✖\u001b[39m \u001b[34mdplyr\u001b[39m::\u001b[32mlag()\u001b[39m    masks \u001b[34mstats\u001b[39m::lag()\n",
      "\n",
      "── \u001b[1mAttaching packages\u001b[22m ────────────────────────────────────── tidymodels 1.0.0 ──\n",
      "\n",
      "\u001b[32m✔\u001b[39m \u001b[34mbroom       \u001b[39m 1.0.0     \u001b[32m✔\u001b[39m \u001b[34mrsample     \u001b[39m 1.0.0\n",
      "\u001b[32m✔\u001b[39m \u001b[34mdials       \u001b[39m 1.0.0     \u001b[32m✔\u001b[39m \u001b[34mtune        \u001b[39m 1.0.0\n",
      "\u001b[32m✔\u001b[39m \u001b[34minfer       \u001b[39m 1.0.2     \u001b[32m✔\u001b[39m \u001b[34mworkflows   \u001b[39m 1.0.0\n",
      "\u001b[32m✔\u001b[39m \u001b[34mmodeldata   \u001b[39m 1.0.0     \u001b[32m✔\u001b[39m \u001b[34mworkflowsets\u001b[39m 1.0.0\n",
      "\u001b[32m✔\u001b[39m \u001b[34mparsnip     \u001b[39m 1.0.0     \u001b[32m✔\u001b[39m \u001b[34myardstick   \u001b[39m 1.0.0\n",
      "\u001b[32m✔\u001b[39m \u001b[34mrecipes     \u001b[39m 1.0.1     \n",
      "\n",
      "── \u001b[1mConflicts\u001b[22m ───────────────────────────────────────── tidymodels_conflicts() ──\n",
      "\u001b[31m✖\u001b[39m \u001b[34mscales\u001b[39m::\u001b[32mdiscard()\u001b[39m masks \u001b[34mpurrr\u001b[39m::discard()\n",
      "\u001b[31m✖\u001b[39m \u001b[34mdplyr\u001b[39m::\u001b[32mfilter()\u001b[39m   masks \u001b[34mstats\u001b[39m::filter()\n",
      "\u001b[31m✖\u001b[39m \u001b[34mrecipes\u001b[39m::\u001b[32mfixed()\u001b[39m  masks \u001b[34mstringr\u001b[39m::fixed()\n",
      "\u001b[31m✖\u001b[39m \u001b[34mdplyr\u001b[39m::\u001b[32mlag()\u001b[39m      masks \u001b[34mstats\u001b[39m::lag()\n",
      "\u001b[31m✖\u001b[39m \u001b[34myardstick\u001b[39m::\u001b[32mspec()\u001b[39m masks \u001b[34mreadr\u001b[39m::spec()\n",
      "\u001b[31m✖\u001b[39m \u001b[34mrecipes\u001b[39m::\u001b[32mstep()\u001b[39m   masks \u001b[34mstats\u001b[39m::step()\n",
      "\u001b[34m•\u001b[39m Use \u001b[32mtidymodels_prefer()\u001b[39m to resolve common conflicts.\n",
      "\n",
      "Warning message in file(filename, \"r\", encoding = encoding):\n",
      "“cannot open file 'tests.R': No such file or directory”\n"
     ]
    },
    {
     "ename": "ERROR",
     "evalue": "Error in file(filename, \"r\", encoding = encoding): cannot open the connection\n",
     "output_type": "error",
     "traceback": [
      "Error in file(filename, \"r\", encoding = encoding): cannot open the connection\nTraceback:\n",
      "1. source(\"tests.R\")",
      "2. file(filename, \"r\", encoding = encoding)"
     ]
    }
   ],
   "source": [
    "library(repr)\n",
    "library(tidyverse)\n",
    "library(tidymodels)\n",
    "library(stringr)\n",
    "options(repr.matrix.max.rows = 6)\n",
    "source('tests.R')\n",
    "source(\"cleanup.R\")"
   ]
  },
  {
   "cell_type": "code",
   "execution_count": 38,
   "id": "b99e5a76-a503-4cda-84c2-265510bf00e9",
   "metadata": {
    "vscode": {
     "languageId": "r"
    }
   },
   "outputs": [
    {
     "name": "stderr",
     "output_type": "stream",
     "text": [
      "\u001b[1mRows: \u001b[22m\u001b[34m99\u001b[39m \u001b[1mColumns: \u001b[22m\u001b[34m9\u001b[39m\n",
      "\u001b[36m──\u001b[39m \u001b[1mColumn specification\u001b[22m \u001b[36m────────────────────────────────────────────────────────\u001b[39m\n",
      "\u001b[1mDelimiter:\u001b[22m \",\"\n",
      "\u001b[31mchr\u001b[39m (6): movie_name, year_of_release, category, run_time, genre, gross_total\n",
      "\u001b[32mdbl\u001b[39m (2): index, imdb_rating\n",
      "\n",
      "\u001b[36mℹ\u001b[39m Use `spec()` to retrieve the full column specification for this data.\n",
      "\u001b[36mℹ\u001b[39m Specify the column types or set `show_col_types = FALSE` to quiet this message.\n"
     ]
    },
    {
     "data": {
      "text/html": [
       "<table class=\"dataframe\">\n",
       "<caption>A spec_tbl_df: 99 × 9</caption>\n",
       "<thead>\n",
       "\t<tr><th scope=col>index</th><th scope=col>movie_name</th><th scope=col>year_of_release</th><th scope=col>category</th><th scope=col>run_time</th><th scope=col>genre</th><th scope=col>imdb_rating</th><th scope=col>votes</th><th scope=col>gross_total</th></tr>\n",
       "\t<tr><th scope=col>&lt;dbl&gt;</th><th scope=col>&lt;chr&gt;</th><th scope=col>&lt;chr&gt;</th><th scope=col>&lt;chr&gt;</th><th scope=col>&lt;chr&gt;</th><th scope=col>&lt;chr&gt;</th><th scope=col>&lt;dbl&gt;</th><th scope=col>&lt;dbl&gt;</th><th scope=col>&lt;chr&gt;</th></tr>\n",
       "</thead>\n",
       "<tbody>\n",
       "\t<tr><td>1</td><td>The Godfather                                 </td><td>(1972)</td><td>R </td><td>175 min</td><td>Crime, Drama              </td><td>9.2</td><td>1860471</td><td>$134.97M</td></tr>\n",
       "\t<tr><td>2</td><td>The Silence of the Lambs                      </td><td>(1991)</td><td>R </td><td>118 min</td><td>Crime, Drama, Thriller    </td><td>8.6</td><td>1435344</td><td>$130.74M</td></tr>\n",
       "\t<tr><td>3</td><td>Star Wars: Episode V - The Empire Strikes Back</td><td>(1980)</td><td>PG</td><td>124 min</td><td>Action, Adventure, Fantasy</td><td>8.7</td><td>1294805</td><td>$290.48M</td></tr>\n",
       "\t<tr><td>⋮</td><td>⋮</td><td>⋮</td><td>⋮</td><td>⋮</td><td>⋮</td><td>⋮</td><td>⋮</td><td>⋮</td></tr>\n",
       "\t<tr><td>97</td><td>Eternal Sunshine of the Spotless Mind</td><td>(2004)</td><td>R</td><td>108 min</td><td>Drama, Romance, Sci-Fi</td><td>8.3</td><td>1011004</td><td>$34.40M </td></tr>\n",
       "\t<tr><td>98</td><td>City Lights                          </td><td>(1931)</td><td>G</td><td>87 min </td><td>Comedy, Drama, Romance</td><td>8.5</td><td> 186059</td><td>$0.02M  </td></tr>\n",
       "\t<tr><td>99</td><td>The Matrix                           </td><td>(1999)</td><td>R</td><td>136 min</td><td>Action, Sci-Fi        </td><td>8.7</td><td>1916083</td><td>$171.48M</td></tr>\n",
       "</tbody>\n",
       "</table>\n"
      ],
      "text/latex": [
       "A spec\\_tbl\\_df: 99 × 9\n",
       "\\begin{tabular}{lllllllll}\n",
       " index & movie\\_name & year\\_of\\_release & category & run\\_time & genre & imdb\\_rating & votes & gross\\_total\\\\\n",
       " <dbl> & <chr> & <chr> & <chr> & <chr> & <chr> & <dbl> & <dbl> & <chr>\\\\\n",
       "\\hline\n",
       "\t 1 & The Godfather                                  & (1972) & R  & 175 min & Crime, Drama               & 9.2 & 1860471 & \\$134.97M\\\\\n",
       "\t 2 & The Silence of the Lambs                       & (1991) & R  & 118 min & Crime, Drama, Thriller     & 8.6 & 1435344 & \\$130.74M\\\\\n",
       "\t 3 & Star Wars: Episode V - The Empire Strikes Back & (1980) & PG & 124 min & Action, Adventure, Fantasy & 8.7 & 1294805 & \\$290.48M\\\\\n",
       "\t ⋮ & ⋮ & ⋮ & ⋮ & ⋮ & ⋮ & ⋮ & ⋮ & ⋮\\\\\n",
       "\t 97 & Eternal Sunshine of the Spotless Mind & (2004) & R & 108 min & Drama, Romance, Sci-Fi & 8.3 & 1011004 & \\$34.40M \\\\\n",
       "\t 98 & City Lights                           & (1931) & G & 87 min  & Comedy, Drama, Romance & 8.5 &  186059 & \\$0.02M  \\\\\n",
       "\t 99 & The Matrix                            & (1999) & R & 136 min & Action, Sci-Fi         & 8.7 & 1916083 & \\$171.48M\\\\\n",
       "\\end{tabular}\n"
      ],
      "text/markdown": [
       "\n",
       "A spec_tbl_df: 99 × 9\n",
       "\n",
       "| index &lt;dbl&gt; | movie_name &lt;chr&gt; | year_of_release &lt;chr&gt; | category &lt;chr&gt; | run_time &lt;chr&gt; | genre &lt;chr&gt; | imdb_rating &lt;dbl&gt; | votes &lt;dbl&gt; | gross_total &lt;chr&gt; |\n",
       "|---|---|---|---|---|---|---|---|---|\n",
       "| 1 | The Godfather                                  | (1972) | R  | 175 min | Crime, Drama               | 9.2 | 1860471 | $134.97M |\n",
       "| 2 | The Silence of the Lambs                       | (1991) | R  | 118 min | Crime, Drama, Thriller     | 8.6 | 1435344 | $130.74M |\n",
       "| 3 | Star Wars: Episode V - The Empire Strikes Back | (1980) | PG | 124 min | Action, Adventure, Fantasy | 8.7 | 1294805 | $290.48M |\n",
       "| ⋮ | ⋮ | ⋮ | ⋮ | ⋮ | ⋮ | ⋮ | ⋮ | ⋮ |\n",
       "| 97 | Eternal Sunshine of the Spotless Mind | (2004) | R | 108 min | Drama, Romance, Sci-Fi | 8.3 | 1011004 | $34.40M  |\n",
       "| 98 | City Lights                           | (1931) | G | 87 min  | Comedy, Drama, Romance | 8.5 |  186059 | $0.02M   |\n",
       "| 99 | The Matrix                            | (1999) | R | 136 min | Action, Sci-Fi         | 8.7 | 1916083 | $171.48M |\n",
       "\n"
      ],
      "text/plain": [
       "   index movie_name                                     year_of_release\n",
       "1  1     The Godfather                                  (1972)         \n",
       "2  2     The Silence of the Lambs                       (1991)         \n",
       "3  3     Star Wars: Episode V - The Empire Strikes Back (1980)         \n",
       "⋮  ⋮     ⋮                                              ⋮              \n",
       "97 97    Eternal Sunshine of the Spotless Mind          (2004)         \n",
       "98 98    City Lights                                    (1931)         \n",
       "99 99    The Matrix                                     (1999)         \n",
       "   category run_time genre                      imdb_rating votes   gross_total\n",
       "1  R        175 min  Crime, Drama               9.2         1860471 $134.97M   \n",
       "2  R        118 min  Crime, Drama, Thriller     8.6         1435344 $130.74M   \n",
       "3  PG       124 min  Action, Adventure, Fantasy 8.7         1294805 $290.48M   \n",
       "⋮  ⋮        ⋮        ⋮                          ⋮           ⋮       ⋮          \n",
       "97 R        108 min  Drama, Romance, Sci-Fi     8.3         1011004 $34.40M    \n",
       "98 G        87 min   Comedy, Drama, Romance     8.5          186059 $0.02M     \n",
       "99 R        136 min  Action, Sci-Fi             8.7         1916083 $171.48M   "
      ]
     },
     "metadata": {},
     "output_type": "display_data"
    }
   ],
   "source": [
    "data <- read_csv(\"movies.csv\")\n",
    "data"
   ]
  },
  {
   "cell_type": "code",
   "execution_count": 49,
   "id": "f31dd8ad-28c4-408f-a752-f3c0ef1da34f",
   "metadata": {
    "vscode": {
     "languageId": "r"
    }
   },
   "outputs": [
    {
     "data": {
      "text/html": [
       "<table class=\"dataframe\">\n",
       "<caption>A tibble: 99 × 8</caption>\n",
       "<thead>\n",
       "\t<tr><th scope=col>index</th><th scope=col>movie_name</th><th scope=col>year_of_release</th><th scope=col>category</th><th scope=col>run_time</th><th scope=col>imdb_rating</th><th scope=col>votes</th><th scope=col>gross_total</th></tr>\n",
       "\t<tr><th scope=col>&lt;dbl&gt;</th><th scope=col>&lt;chr&gt;</th><th scope=col>&lt;dbl&gt;</th><th scope=col>&lt;chr&gt;</th><th scope=col>&lt;chr&gt;</th><th scope=col>&lt;dbl&gt;</th><th scope=col>&lt;dbl&gt;</th><th scope=col>&lt;chr&gt;</th></tr>\n",
       "</thead>\n",
       "<tbody>\n",
       "\t<tr><td>4</td><td>The Shawshank Redemption                     </td><td>1994</td><td>R    </td><td>142 min</td><td>9.3</td><td>2683302</td><td>$28.34M </td></tr>\n",
       "\t<tr><td>1</td><td>The Godfather                                </td><td>1972</td><td>R    </td><td>175 min</td><td>9.2</td><td>1860471</td><td>$134.97M</td></tr>\n",
       "\t<tr><td>9</td><td>The Lord of the Rings: The Return of the King</td><td>2003</td><td>PG-13</td><td>201 min</td><td>9.0</td><td>1849082</td><td>$377.85M</td></tr>\n",
       "\t<tr><td>⋮</td><td>⋮</td><td>⋮</td><td>⋮</td><td>⋮</td><td>⋮</td><td>⋮</td><td>⋮</td></tr>\n",
       "\t<tr><td>85</td><td>O Brother, Where Art Thou?</td><td>2000</td><td>PG-13</td><td>107 min</td><td>7.7</td><td>315173</td><td>$45.51M</td></tr>\n",
       "\t<tr><td>90</td><td>The Piano                 </td><td>1993</td><td>R    </td><td>121 min</td><td>7.5</td><td> 89819</td><td>$40.16M</td></tr>\n",
       "\t<tr><td>49</td><td>Avanti!                   </td><td>1972</td><td>R    </td><td>144 min</td><td>7.2</td><td> 10748</td><td>$3.30M </td></tr>\n",
       "</tbody>\n",
       "</table>\n"
      ],
      "text/latex": [
       "A tibble: 99 × 8\n",
       "\\begin{tabular}{llllllll}\n",
       " index & movie\\_name & year\\_of\\_release & category & run\\_time & imdb\\_rating & votes & gross\\_total\\\\\n",
       " <dbl> & <chr> & <dbl> & <chr> & <chr> & <dbl> & <dbl> & <chr>\\\\\n",
       "\\hline\n",
       "\t 4 & The Shawshank Redemption                      & 1994 & R     & 142 min & 9.3 & 2683302 & \\$28.34M \\\\\n",
       "\t 1 & The Godfather                                 & 1972 & R     & 175 min & 9.2 & 1860471 & \\$134.97M\\\\\n",
       "\t 9 & The Lord of the Rings: The Return of the King & 2003 & PG-13 & 201 min & 9.0 & 1849082 & \\$377.85M\\\\\n",
       "\t ⋮ & ⋮ & ⋮ & ⋮ & ⋮ & ⋮ & ⋮ & ⋮\\\\\n",
       "\t 85 & O Brother, Where Art Thou? & 2000 & PG-13 & 107 min & 7.7 & 315173 & \\$45.51M\\\\\n",
       "\t 90 & The Piano                  & 1993 & R     & 121 min & 7.5 &  89819 & \\$40.16M\\\\\n",
       "\t 49 & Avanti!                    & 1972 & R     & 144 min & 7.2 &  10748 & \\$3.30M \\\\\n",
       "\\end{tabular}\n"
      ],
      "text/markdown": [
       "\n",
       "A tibble: 99 × 8\n",
       "\n",
       "| index &lt;dbl&gt; | movie_name &lt;chr&gt; | year_of_release &lt;dbl&gt; | category &lt;chr&gt; | run_time &lt;chr&gt; | imdb_rating &lt;dbl&gt; | votes &lt;dbl&gt; | gross_total &lt;chr&gt; |\n",
       "|---|---|---|---|---|---|---|---|\n",
       "| 4 | The Shawshank Redemption                      | 1994 | R     | 142 min | 9.3 | 2683302 | $28.34M  |\n",
       "| 1 | The Godfather                                 | 1972 | R     | 175 min | 9.2 | 1860471 | $134.97M |\n",
       "| 9 | The Lord of the Rings: The Return of the King | 2003 | PG-13 | 201 min | 9.0 | 1849082 | $377.85M |\n",
       "| ⋮ | ⋮ | ⋮ | ⋮ | ⋮ | ⋮ | ⋮ | ⋮ |\n",
       "| 85 | O Brother, Where Art Thou? | 2000 | PG-13 | 107 min | 7.7 | 315173 | $45.51M |\n",
       "| 90 | The Piano                  | 1993 | R     | 121 min | 7.5 |  89819 | $40.16M |\n",
       "| 49 | Avanti!                    | 1972 | R     | 144 min | 7.2 |  10748 | $3.30M  |\n",
       "\n"
      ],
      "text/plain": [
       "   index movie_name                                    year_of_release category\n",
       "1  4     The Shawshank Redemption                      1994            R       \n",
       "2  1     The Godfather                                 1972            R       \n",
       "3  9     The Lord of the Rings: The Return of the King 2003            PG-13   \n",
       "⋮  ⋮     ⋮                                             ⋮               ⋮       \n",
       "97 85    O Brother, Where Art Thou?                    2000            PG-13   \n",
       "98 90    The Piano                                     1993            R       \n",
       "99 49    Avanti!                                       1972            R       \n",
       "   run_time imdb_rating votes   gross_total\n",
       "1  142 min  9.3         2683302 $28.34M    \n",
       "2  175 min  9.2         1860471 $134.97M   \n",
       "3  201 min  9.0         1849082 $377.85M   \n",
       "⋮  ⋮        ⋮           ⋮       ⋮          \n",
       "97 107 min  7.7         315173  $45.51M    \n",
       "98 121 min  7.5          89819  $40.16M    \n",
       "99 144 min  7.2          10748  $3.30M     "
      ]
     },
     "metadata": {},
     "output_type": "display_data"
    }
   ],
   "source": [
    "movies_data <- data |>\n",
    "    select(index, movie_name, year_of_release, category, run_time, imdb_rating, votes, gross_total) |>\n",
    "    arrange(desc(imdb_rating))\n",
    "movies_data"
   ]
  },
  {
   "cell_type": "code",
   "execution_count": 2,
   "id": "6a9bcd45-4198-457a-807d-dbfa0cc3e462",
   "metadata": {
    "vscode": {
     "languageId": "r"
    }
   },
   "outputs": [
    {
     "ename": "ERROR",
     "evalue": "Error in mutate(mutate(movies_data, year_of_release = str_replace_all(year_of_release, : could not find function \"mutate\"\n",
     "output_type": "error",
     "traceback": [
      "Error in mutate(mutate(movies_data, year_of_release = str_replace_all(year_of_release, : could not find function \"mutate\"\nTraceback:\n"
     ]
    }
   ],
   "source": [
    "movies_data <- movies_data |>\n",
    "    mutate(year_of_release = str_replace_all(year_of_release, \"[()]\", \"\")) |>\n",
    "    mutate(year_of_release = as.numeric(year_of_release))\n",
    "movies_data"
   ]
  },
  {
   "cell_type": "code",
   "execution_count": 51,
   "id": "af8e4e2f-4ad1-4ce3-b0be-b577edfd1e03",
   "metadata": {
    "vscode": {
     "languageId": "r"
    }
   },
   "outputs": [
    {
     "data": {
      "text/html": [
       "<table class=\"dataframe\">\n",
       "<caption>A tibble: 54 × 2</caption>\n",
       "<thead>\n",
       "\t<tr><th scope=col>year_of_release</th><th scope=col>Average_rating_per_year</th></tr>\n",
       "\t<tr><th scope=col>&lt;dbl&gt;</th><th scope=col>&lt;dbl&gt;</th></tr>\n",
       "</thead>\n",
       "<tbody>\n",
       "\t<tr><td>1931</td><td>8.5</td></tr>\n",
       "\t<tr><td>1936</td><td>8.5</td></tr>\n",
       "\t<tr><td>1939</td><td>8.2</td></tr>\n",
       "\t<tr><td>⋮</td><td>⋮</td></tr>\n",
       "\t<tr><td>2013</td><td>7.95</td></tr>\n",
       "\t<tr><td>2014</td><td>8.60</td></tr>\n",
       "\t<tr><td>2015</td><td>7.95</td></tr>\n",
       "</tbody>\n",
       "</table>\n"
      ],
      "text/latex": [
       "A tibble: 54 × 2\n",
       "\\begin{tabular}{ll}\n",
       " year\\_of\\_release & Average\\_rating\\_per\\_year\\\\\n",
       " <dbl> & <dbl>\\\\\n",
       "\\hline\n",
       "\t 1931 & 8.5\\\\\n",
       "\t 1936 & 8.5\\\\\n",
       "\t 1939 & 8.2\\\\\n",
       "\t ⋮ & ⋮\\\\\n",
       "\t 2013 & 7.95\\\\\n",
       "\t 2014 & 8.60\\\\\n",
       "\t 2015 & 7.95\\\\\n",
       "\\end{tabular}\n"
      ],
      "text/markdown": [
       "\n",
       "A tibble: 54 × 2\n",
       "\n",
       "| year_of_release &lt;dbl&gt; | Average_rating_per_year &lt;dbl&gt; |\n",
       "|---|---|\n",
       "| 1931 | 8.5 |\n",
       "| 1936 | 8.5 |\n",
       "| 1939 | 8.2 |\n",
       "| ⋮ | ⋮ |\n",
       "| 2013 | 7.95 |\n",
       "| 2014 | 8.60 |\n",
       "| 2015 | 7.95 |\n",
       "\n"
      ],
      "text/plain": [
       "   year_of_release Average_rating_per_year\n",
       "1  1931            8.5                    \n",
       "2  1936            8.5                    \n",
       "3  1939            8.2                    \n",
       "⋮  ⋮               ⋮                      \n",
       "52 2013            7.95                   \n",
       "53 2014            8.60                   \n",
       "54 2015            7.95                   "
      ]
     },
     "metadata": {},
     "output_type": "display_data"
    }
   ],
   "source": [
    "summary_data <- movies_data |>\n",
    "    group_by(year_of_release) |>\n",
    "    summarize(Average_rating_per_year = mean(imdb_rating, na.rm = TRUE))\n",
    "summary_data"
   ]
  },
  {
   "cell_type": "code",
   "execution_count": 54,
   "id": "ebfea2aa-dc52-4e1c-89e1-eb5bdf843072",
   "metadata": {
    "vscode": {
     "languageId": "r"
    }
   },
   "outputs": [
    {
     "data": {
      "image/png": "[encoded data removed]",
      "text/plain": [
       "plot without title"
      ]
     },
     "metadata": {
      "image/png": {
       "height": 420,
       "width": 420
      }
     },
     "output_type": "display_data"
    }
   ],
   "source": [
    "movies_data_plot <- ggplot(movies_data, aes(x = year_of_release, y = votes))+\n",
    "    geom_point(aes(color = imdb_rating))+\n",
    "    labs(x = \"Year\", y = \"Votes Recieved\", color = \"IMDB Rating\")+\n",
    "    theme(text = element_text(size = 12))\n",
    "movies_data_plot"
   ]
  },
  {
   "cell_type": "markdown",
   "id": "0c16d643-2e0b-48d5-9f51-2186600dcc3e",
   "metadata": {},
   "source": [
    "Ideas on what to predict\n",
    "- Use the year, category, votes and gross total to predict the rating\n",
    "- predict the year of release by using votes, rating and gross total"
   ]
  },
  {
   "cell_type": "code",
   "execution_count": null,
   "id": "b0afa0d1-ac92-4164-aca0-f3579952d8ec",
   "metadata": {
    "vscode": {
     "languageId": "r"
    }
   },
   "outputs": [],
   "source": [
    "source(\"cleanup.R\")"
   ]
  }
 ],
 "metadata": {
  "kernelspec": {
   "display_name": "R",
   "language": "R",
   "name": "ir"
  },
  "language_info": {
   "codemirror_mode": "r",
   "file_extension": ".r",
   "mimetype": "text/x-r-source",
   "name": "R",
   "pygments_lexer": "r",
   "version": "4.1.3"
  }
 },
 "nbformat": 4,
 "nbformat_minor": 5
}
