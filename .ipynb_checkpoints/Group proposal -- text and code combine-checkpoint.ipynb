{
 "cells": [
  {
   "cell_type": "markdown",
   "id": "efbf7570-04b1-44ce-b7cc-6be8806d06c9",
   "metadata": {},
   "source": [
    "# Group Proposal: Movie Category Prediction Based on Run Time, Votes and IMDB Rating\n",
    "\n",
    "### Introduction:\n",
    "\n",
    "Knowing the category of a movie (G, PG, PG-13 or R) helps parents determine which movies are appropriate for their children to watch. Movies displaying intense violence, drug use, nudity, and harsh language are not suited for younger viewers. Variables such as run time, votes, and IMDb rating play an important role in determining the category of a movie. This leads to the question we will be trying to answer: what will be the category of a movie based on run time, votes, and IMDb rating? The dataset that will be used is called IMDb Top 100 Movies. Using the list of the top 100 movies from 1972 to 2015 according to IMDb, we will predict the category of the movie based on the variables/columns: run time, votes, and IMDb rating."
   ]
  },
  {
   "cell_type": "markdown",
   "id": "b511ddc4-51bf-496d-bffc-c0b29c557772",
   "metadata": {},
   "source": [
    "### Preliminary exploratory data analysis\n",
    "\n",
    "- First, we found that the dataset can be read from the website, Kaggle, into R.\n",
    "- In the cleaning and wrangling part of the process, we used the categories run_time, votes, and imdb_rating as our predictors to gain insight into which category a movie might belong. These categories include G, PG, PG-13, and R, with the “approved”, “passed”, and “GP” ratings extracted during the data wrangling. Columns that were eliminated include index, movie_name, year_of_release, genre, and gross_total. The overall category, or rating of the movie that we want to predict was also changed to a factor and the “mins” taken out of runtime in order to more easily analyze the data.\n",
    "- We created this table in order to visualize the category breakdown after the data was cleaned and wrangled.\n",
    "- The relationship between IMDB rating and category shows how the distributions of these two predictor variables interact with one another. \n"
   ]
  },
  {
   "cell_type": "code",
   "execution_count": 1,
   "id": "af41250c-3ffd-4470-975e-03bd04c14f4c",
   "metadata": {},
   "outputs": [
    {
     "name": "stderr",
     "output_type": "stream",
     "text": [
      "── \u001b[1mAttaching packages\u001b[22m ─────────────────────────────────────── tidyverse 1.3.1 ──\n",
      "\n",
      "\u001b[32m✔\u001b[39m \u001b[34mggplot2\u001b[39m 3.3.6     \u001b[32m✔\u001b[39m \u001b[34mpurrr  \u001b[39m 0.3.4\n",
      "\u001b[32m✔\u001b[39m \u001b[34mtibble \u001b[39m 3.1.7     \u001b[32m✔\u001b[39m \u001b[34mdplyr  \u001b[39m 1.0.9\n",
      "\u001b[32m✔\u001b[39m \u001b[34mtidyr  \u001b[39m 1.2.0     \u001b[32m✔\u001b[39m \u001b[34mstringr\u001b[39m 1.4.0\n",
      "\u001b[32m✔\u001b[39m \u001b[34mreadr  \u001b[39m 2.1.2     \u001b[32m✔\u001b[39m \u001b[34mforcats\u001b[39m 0.5.1\n",
      "\n",
      "── \u001b[1mConflicts\u001b[22m ────────────────────────────────────────── tidyverse_conflicts() ──\n",
      "\u001b[31m✖\u001b[39m \u001b[34mdplyr\u001b[39m::\u001b[32mfilter()\u001b[39m masks \u001b[34mstats\u001b[39m::filter()\n",
      "\u001b[31m✖\u001b[39m \u001b[34mdplyr\u001b[39m::\u001b[32mlag()\u001b[39m    masks \u001b[34mstats\u001b[39m::lag()\n",
      "\n",
      "── \u001b[1mAttaching packages\u001b[22m ────────────────────────────────────── tidymodels 1.0.0 ──\n",
      "\n",
      "\u001b[32m✔\u001b[39m \u001b[34mbroom       \u001b[39m 1.0.0     \u001b[32m✔\u001b[39m \u001b[34mrsample     \u001b[39m 1.0.0\n",
      "\u001b[32m✔\u001b[39m \u001b[34mdials       \u001b[39m 1.0.0     \u001b[32m✔\u001b[39m \u001b[34mtune        \u001b[39m 1.0.0\n",
      "\u001b[32m✔\u001b[39m \u001b[34minfer       \u001b[39m 1.0.2     \u001b[32m✔\u001b[39m \u001b[34mworkflows   \u001b[39m 1.0.0\n",
      "\u001b[32m✔\u001b[39m \u001b[34mmodeldata   \u001b[39m 1.0.0     \u001b[32m✔\u001b[39m \u001b[34mworkflowsets\u001b[39m 1.0.0\n",
      "\u001b[32m✔\u001b[39m \u001b[34mparsnip     \u001b[39m 1.0.0     \u001b[32m✔\u001b[39m \u001b[34myardstick   \u001b[39m 1.0.0\n",
      "\u001b[32m✔\u001b[39m \u001b[34mrecipes     \u001b[39m 1.0.1     \n",
      "\n",
      "── \u001b[1mConflicts\u001b[22m ───────────────────────────────────────── tidymodels_conflicts() ──\n",
      "\u001b[31m✖\u001b[39m \u001b[34mscales\u001b[39m::\u001b[32mdiscard()\u001b[39m masks \u001b[34mpurrr\u001b[39m::discard()\n",
      "\u001b[31m✖\u001b[39m \u001b[34mdplyr\u001b[39m::\u001b[32mfilter()\u001b[39m   masks \u001b[34mstats\u001b[39m::filter()\n",
      "\u001b[31m✖\u001b[39m \u001b[34mrecipes\u001b[39m::\u001b[32mfixed()\u001b[39m  masks \u001b[34mstringr\u001b[39m::fixed()\n",
      "\u001b[31m✖\u001b[39m \u001b[34mdplyr\u001b[39m::\u001b[32mlag()\u001b[39m      masks \u001b[34mstats\u001b[39m::lag()\n",
      "\u001b[31m✖\u001b[39m \u001b[34myardstick\u001b[39m::\u001b[32mspec()\u001b[39m masks \u001b[34mreadr\u001b[39m::spec()\n",
      "\u001b[31m✖\u001b[39m \u001b[34mrecipes\u001b[39m::\u001b[32mstep()\u001b[39m   masks \u001b[34mstats\u001b[39m::step()\n",
      "\u001b[34m•\u001b[39m Learn how to get started at \u001b[32mhttps://www.tidymodels.org/start/\u001b[39m\n",
      "\n",
      "Warning message in file(filename, \"r\", encoding = encoding):\n",
      "“cannot open file 'tests.R': No such file or directory”\n"
     ]
    },
    {
     "ename": "ERROR",
     "evalue": "Error in file(filename, \"r\", encoding = encoding): cannot open the connection\n",
     "output_type": "error",
     "traceback": [
      "Error in file(filename, \"r\", encoding = encoding): cannot open the connection\nTraceback:\n",
      "1. source(\"tests.R\")",
      "2. file(filename, \"r\", encoding = encoding)"
     ]
    }
   ],
   "source": [
    "library(tidyverse)\n",
    "library(stringr)\n",
    "library(repr)\n",
    "library(tidymodels)\n",
    "options(repr.matrix.max.rows = 6)\n",
    "source('tests.R')\n",
    "source(\"cleanup.R\")"
   ]
  },
  {
   "cell_type": "code",
   "execution_count": 2,
   "id": "952d4974-ba80-4172-a46d-d9f5acc00425",
   "metadata": {},
   "outputs": [
    {
     "name": "stderr",
     "output_type": "stream",
     "text": [
      "\u001b[1mRows: \u001b[22m\u001b[34m99\u001b[39m \u001b[1mColumns: \u001b[22m\u001b[34m9\u001b[39m\n",
      "\u001b[36m──\u001b[39m \u001b[1mColumn specification\u001b[22m \u001b[36m────────────────────────────────────────────────────────\u001b[39m\n",
      "\u001b[1mDelimiter:\u001b[22m \",\"\n",
      "\u001b[31mchr\u001b[39m (6): movie_name, year_of_release, category, run_time, genre, gross_total\n",
      "\u001b[32mdbl\u001b[39m (2): index, imdb_rating\n",
      "\n",
      "\u001b[36mℹ\u001b[39m Use `spec()` to retrieve the full column specification for this data.\n",
      "\u001b[36mℹ\u001b[39m Specify the column types or set `show_col_types = FALSE` to quiet this message.\n"
     ]
    },
    {
     "data": {
      "text/html": [
       "<table class=\"dataframe\">\n",
       "<caption>A spec_tbl_df: 99 × 9</caption>\n",
       "<thead>\n",
       "\t<tr><th scope=col>index</th><th scope=col>movie_name</th><th scope=col>year_of_release</th><th scope=col>category</th><th scope=col>run_time</th><th scope=col>genre</th><th scope=col>imdb_rating</th><th scope=col>votes</th><th scope=col>gross_total</th></tr>\n",
       "\t<tr><th scope=col>&lt;dbl&gt;</th><th scope=col>&lt;chr&gt;</th><th scope=col>&lt;chr&gt;</th><th scope=col>&lt;chr&gt;</th><th scope=col>&lt;chr&gt;</th><th scope=col>&lt;chr&gt;</th><th scope=col>&lt;dbl&gt;</th><th scope=col>&lt;dbl&gt;</th><th scope=col>&lt;chr&gt;</th></tr>\n",
       "</thead>\n",
       "<tbody>\n",
       "\t<tr><td>1</td><td>The Godfather                                 </td><td>(1972)</td><td>R </td><td>175 min</td><td>Crime, Drama              </td><td>9.2</td><td>1860471</td><td>$134.97M</td></tr>\n",
       "\t<tr><td>2</td><td>The Silence of the Lambs                      </td><td>(1991)</td><td>R </td><td>118 min</td><td>Crime, Drama, Thriller    </td><td>8.6</td><td>1435344</td><td>$130.74M</td></tr>\n",
       "\t<tr><td>3</td><td>Star Wars: Episode V - The Empire Strikes Back</td><td>(1980)</td><td>PG</td><td>124 min</td><td>Action, Adventure, Fantasy</td><td>8.7</td><td>1294805</td><td>$290.48M</td></tr>\n",
       "\t<tr><td>⋮</td><td>⋮</td><td>⋮</td><td>⋮</td><td>⋮</td><td>⋮</td><td>⋮</td><td>⋮</td><td>⋮</td></tr>\n",
       "\t<tr><td>97</td><td>Eternal Sunshine of the Spotless Mind</td><td>(2004)</td><td>R</td><td>108 min</td><td>Drama, Romance, Sci-Fi</td><td>8.3</td><td>1011004</td><td>$34.40M </td></tr>\n",
       "\t<tr><td>98</td><td>City Lights                          </td><td>(1931)</td><td>G</td><td>87 min </td><td>Comedy, Drama, Romance</td><td>8.5</td><td> 186059</td><td>$0.02M  </td></tr>\n",
       "\t<tr><td>99</td><td>The Matrix                           </td><td>(1999)</td><td>R</td><td>136 min</td><td>Action, Sci-Fi        </td><td>8.7</td><td>1916083</td><td>$171.48M</td></tr>\n",
       "</tbody>\n",
       "</table>\n"
      ],
      "text/latex": [
       "A spec\\_tbl\\_df: 99 × 9\n",
       "\\begin{tabular}{lllllllll}\n",
       " index & movie\\_name & year\\_of\\_release & category & run\\_time & genre & imdb\\_rating & votes & gross\\_total\\\\\n",
       " <dbl> & <chr> & <chr> & <chr> & <chr> & <chr> & <dbl> & <dbl> & <chr>\\\\\n",
       "\\hline\n",
       "\t 1 & The Godfather                                  & (1972) & R  & 175 min & Crime, Drama               & 9.2 & 1860471 & \\$134.97M\\\\\n",
       "\t 2 & The Silence of the Lambs                       & (1991) & R  & 118 min & Crime, Drama, Thriller     & 8.6 & 1435344 & \\$130.74M\\\\\n",
       "\t 3 & Star Wars: Episode V - The Empire Strikes Back & (1980) & PG & 124 min & Action, Adventure, Fantasy & 8.7 & 1294805 & \\$290.48M\\\\\n",
       "\t ⋮ & ⋮ & ⋮ & ⋮ & ⋮ & ⋮ & ⋮ & ⋮ & ⋮\\\\\n",
       "\t 97 & Eternal Sunshine of the Spotless Mind & (2004) & R & 108 min & Drama, Romance, Sci-Fi & 8.3 & 1011004 & \\$34.40M \\\\\n",
       "\t 98 & City Lights                           & (1931) & G & 87 min  & Comedy, Drama, Romance & 8.5 &  186059 & \\$0.02M  \\\\\n",
       "\t 99 & The Matrix                            & (1999) & R & 136 min & Action, Sci-Fi         & 8.7 & 1916083 & \\$171.48M\\\\\n",
       "\\end{tabular}\n"
      ],
      "text/markdown": [
       "\n",
       "A spec_tbl_df: 99 × 9\n",
       "\n",
       "| index &lt;dbl&gt; | movie_name &lt;chr&gt; | year_of_release &lt;chr&gt; | category &lt;chr&gt; | run_time &lt;chr&gt; | genre &lt;chr&gt; | imdb_rating &lt;dbl&gt; | votes &lt;dbl&gt; | gross_total &lt;chr&gt; |\n",
       "|---|---|---|---|---|---|---|---|---|\n",
       "| 1 | The Godfather                                  | (1972) | R  | 175 min | Crime, Drama               | 9.2 | 1860471 | $134.97M |\n",
       "| 2 | The Silence of the Lambs                       | (1991) | R  | 118 min | Crime, Drama, Thriller     | 8.6 | 1435344 | $130.74M |\n",
       "| 3 | Star Wars: Episode V - The Empire Strikes Back | (1980) | PG | 124 min | Action, Adventure, Fantasy | 8.7 | 1294805 | $290.48M |\n",
       "| ⋮ | ⋮ | ⋮ | ⋮ | ⋮ | ⋮ | ⋮ | ⋮ | ⋮ |\n",
       "| 97 | Eternal Sunshine of the Spotless Mind | (2004) | R | 108 min | Drama, Romance, Sci-Fi | 8.3 | 1011004 | $34.40M  |\n",
       "| 98 | City Lights                           | (1931) | G | 87 min  | Comedy, Drama, Romance | 8.5 |  186059 | $0.02M   |\n",
       "| 99 | The Matrix                            | (1999) | R | 136 min | Action, Sci-Fi         | 8.7 | 1916083 | $171.48M |\n",
       "\n"
      ],
      "text/plain": [
       "   index movie_name                                     year_of_release\n",
       "1  1     The Godfather                                  (1972)         \n",
       "2  2     The Silence of the Lambs                       (1991)         \n",
       "3  3     Star Wars: Episode V - The Empire Strikes Back (1980)         \n",
       "⋮  ⋮     ⋮                                              ⋮              \n",
       "97 97    Eternal Sunshine of the Spotless Mind          (2004)         \n",
       "98 98    City Lights                                    (1931)         \n",
       "99 99    The Matrix                                     (1999)         \n",
       "   category run_time genre                      imdb_rating votes   gross_total\n",
       "1  R        175 min  Crime, Drama               9.2         1860471 $134.97M   \n",
       "2  R        118 min  Crime, Drama, Thriller     8.6         1435344 $130.74M   \n",
       "3  PG       124 min  Action, Adventure, Fantasy 8.7         1294805 $290.48M   \n",
       "⋮  ⋮        ⋮        ⋮                          ⋮           ⋮       ⋮          \n",
       "97 R        108 min  Drama, Romance, Sci-Fi     8.3         1011004 $34.40M    \n",
       "98 G        87 min   Comedy, Drama, Romance     8.5          186059 $0.02M     \n",
       "99 R        136 min  Action, Sci-Fi             8.7         1916083 $171.48M   "
      ]
     },
     "metadata": {},
     "output_type": "display_data"
    }
   ],
   "source": [
    "movies_csv <- read_csv(\"movies.csv\")\n",
    "movies_csv"
   ]
  },
  {
   "cell_type": "code",
   "execution_count": 3,
   "id": "2fb88857-88d8-42f5-b785-32925af498ee",
   "metadata": {},
   "outputs": [
    {
     "data": {
      "text/html": [
       "<table class=\"dataframe\">\n",
       "<caption>A tibble: 91 × 4</caption>\n",
       "<thead>\n",
       "\t<tr><th scope=col>category</th><th scope=col>run_time</th><th scope=col>votes</th><th scope=col>imdb_rating</th></tr>\n",
       "\t<tr><th scope=col>&lt;chr&gt;</th><th scope=col>&lt;chr&gt;</th><th scope=col>&lt;dbl&gt;</th><th scope=col>&lt;dbl&gt;</th></tr>\n",
       "</thead>\n",
       "<tbody>\n",
       "\t<tr><td>R </td><td>175 min</td><td>1860471</td><td>9.2</td></tr>\n",
       "\t<tr><td>R </td><td>118 min</td><td>1435344</td><td>8.6</td></tr>\n",
       "\t<tr><td>PG</td><td>124 min</td><td>1294805</td><td>8.7</td></tr>\n",
       "\t<tr><td>⋮</td><td>⋮</td><td>⋮</td><td>⋮</td></tr>\n",
       "\t<tr><td>R</td><td>108 min</td><td>1011004</td><td>8.3</td></tr>\n",
       "\t<tr><td>G</td><td>87 min </td><td> 186059</td><td>8.5</td></tr>\n",
       "\t<tr><td>R</td><td>136 min</td><td>1916083</td><td>8.7</td></tr>\n",
       "</tbody>\n",
       "</table>\n"
      ],
      "text/latex": [
       "A tibble: 91 × 4\n",
       "\\begin{tabular}{llll}\n",
       " category & run\\_time & votes & imdb\\_rating\\\\\n",
       " <chr> & <chr> & <dbl> & <dbl>\\\\\n",
       "\\hline\n",
       "\t R  & 175 min & 1860471 & 9.2\\\\\n",
       "\t R  & 118 min & 1435344 & 8.6\\\\\n",
       "\t PG & 124 min & 1294805 & 8.7\\\\\n",
       "\t ⋮ & ⋮ & ⋮ & ⋮\\\\\n",
       "\t R & 108 min & 1011004 & 8.3\\\\\n",
       "\t G & 87 min  &  186059 & 8.5\\\\\n",
       "\t R & 136 min & 1916083 & 8.7\\\\\n",
       "\\end{tabular}\n"
      ],
      "text/markdown": [
       "\n",
       "A tibble: 91 × 4\n",
       "\n",
       "| category &lt;chr&gt; | run_time &lt;chr&gt; | votes &lt;dbl&gt; | imdb_rating &lt;dbl&gt; |\n",
       "|---|---|---|---|\n",
       "| R  | 175 min | 1860471 | 9.2 |\n",
       "| R  | 118 min | 1435344 | 8.6 |\n",
       "| PG | 124 min | 1294805 | 8.7 |\n",
       "| ⋮ | ⋮ | ⋮ | ⋮ |\n",
       "| R | 108 min | 1011004 | 8.3 |\n",
       "| G | 87 min  |  186059 | 8.5 |\n",
       "| R | 136 min | 1916083 | 8.7 |\n",
       "\n"
      ],
      "text/plain": [
       "   category run_time votes   imdb_rating\n",
       "1  R        175 min  1860471 9.2        \n",
       "2  R        118 min  1435344 8.6        \n",
       "3  PG       124 min  1294805 8.7        \n",
       "⋮  ⋮        ⋮        ⋮       ⋮          \n",
       "89 R        108 min  1011004 8.3        \n",
       "90 G        87 min    186059 8.5        \n",
       "91 R        136 min  1916083 8.7        "
      ]
     },
     "metadata": {},
     "output_type": "display_data"
    }
   ],
   "source": [
    "select_movies <- select(movies_csv, category, run_time, votes, imdb_rating)\n",
    "filter_movies <- filter(select_movies, category != \"Approved\", category != \"Passed\", category != \"GP\")\n",
    "filter_movies"
   ]
  },
  {
   "cell_type": "markdown",
   "id": "a477629c-afff-45ab-b7dd-b1428fb78a68",
   "metadata": {
    "tags": []
   },
   "source": [
    "### Methods:\n",
    "\n",
    "The goal of the project is to predict the category of a movie by its run time, votes and IMDB rating. We decided to use these three columns because they were numerical data, which are easier to analyze. The other numerical column, which is “year of release”, doesn't show a clear connection with the category of a movie; and the columns “movie name” and “genre” are non-numerical, which is harder to analyze.\n",
    "\n",
    "In this project, we visualized the results in multiple ways: Before using the classification method, there are scatter plots that compare the correlation between different variables, such as “IMDB rating” and “Votes”, or “IMDB rating” and “Run times”. With the classification method, we will also visualize the relationship between accuracy of prediction and neighbors (K) in a line graph."
   ]
  },
  {
   "cell_type": "markdown",
   "id": "6924ec2d-97bc-4564-96fe-663f40e39bc8",
   "metadata": {},
   "source": [
    "#### Scatter plot of IMDB Rating vs. Votes, and IMDB Rating vs. Run time."
   ]
  },
  {
   "cell_type": "code",
   "execution_count": 3,
   "id": "48cda9d4-41e2-4abf-b732-6a909f615a68",
   "metadata": {},
   "outputs": [
    {
     "ename": "ERROR",
     "evalue": "Error in mutate(filter_movies, category = as_factor(category)): could not find function \"mutate\"\n",
     "output_type": "error",
     "traceback": [
      "Error in mutate(filter_movies, category = as_factor(category)): could not find function \"mutate\"\nTraceback:\n"
     ]
    }
   ],
   "source": [
    "set.seed(9999) \n",
    "\n",
    "mutated_movies <- mutate(filter_movies, category = as_factor(category))\n",
    "changed_movies <- mutated_movies |>\n",
    "    mutate(run_time = str_replace_all(run_time, \"([min])\", \"\"))|>\n",
    "    mutate(run_time = as.numeric(run_time))\n",
    "\n",
    "knn_spec_all <- nearest_neighbor(weight_func = \"rectangular\", neighbors = 11) |>\n",
    "       set_engine(\"kknn\") |>\n",
    "       set_mode(\"classification\")\n",
    "\n",
    "movies_data_recipe_all <- recipe(category ~ run_time + votes + imdb_rating, data = changed_movies) |>\n",
    "                        step_scale(all_predictors()) |>\n",
    "                        step_center(all_predictors())\n",
    "\n",
    "movies_fit_all <- workflow() |>\n",
    "          add_recipe(movies_data_recipe_all) |>\n",
    "          add_model(knn_spec_all) |>\n",
    "          fit(data = changed_movies)\n",
    "\n",
    "options(repr.plot.height = 7, repr.plot.width = 7)\n",
    "movies_plot_1 <- ggplot(changed_movies, aes(x = votes, y = imdb_rating))+\n",
    "    geom_point(aes(color = category))+\n",
    "    labs(x = \"Votes\", y = \"IMDB Rating\", color = \"Cateory\")+\n",
    "    theme(text = element_text(size = 18))\n",
    "movies_plot_1\n",
    "\n",
    "movies_plot_2 <- ggplot(changed_movies, aes(x = run_time, y = imdb_rating))+\n",
    "    geom_point(aes(color = category))+\n",
    "    labs(x = \"Run Time (minutes)\", y = \"IMDB Rating\", color = \"Cateory\")+\n",
    "    theme(text = element_text(size = 18))\n",
    "movies_plot_2"
   ]
  },
  {
   "cell_type": "markdown",
   "id": "7229a945-cc58-49df-afa3-9002b380163a",
   "metadata": {},
   "source": [
    "#### A table showing number of movie in different categories in the training data"
   ]
  },
  {
   "cell_type": "code",
   "execution_count": 5,
   "id": "0981640f-ca3f-4348-aa92-2f3739c5eb32",
   "metadata": {},
   "outputs": [
    {
     "data": {
      "text/html": [
       "<table class=\"dataframe\">\n",
       "<caption>A tibble: 4 × 2</caption>\n",
       "<thead>\n",
       "\t<tr><th scope=col>category</th><th scope=col>count</th></tr>\n",
       "\t<tr><th scope=col>&lt;fct&gt;</th><th scope=col>&lt;int&gt;</th></tr>\n",
       "</thead>\n",
       "<tbody>\n",
       "\t<tr><td>R    </td><td>43</td></tr>\n",
       "\t<tr><td>PG   </td><td> 7</td></tr>\n",
       "\t<tr><td>PG-13</td><td>11</td></tr>\n",
       "\t<tr><td>G    </td><td> 6</td></tr>\n",
       "</tbody>\n",
       "</table>\n"
      ],
      "text/latex": [
       "A tibble: 4 × 2\n",
       "\\begin{tabular}{ll}\n",
       " category & count\\\\\n",
       " <fct> & <int>\\\\\n",
       "\\hline\n",
       "\t R     & 43\\\\\n",
       "\t PG    &  7\\\\\n",
       "\t PG-13 & 11\\\\\n",
       "\t G     &  6\\\\\n",
       "\\end{tabular}\n"
      ],
      "text/markdown": [
       "\n",
       "A tibble: 4 × 2\n",
       "\n",
       "| category &lt;fct&gt; | count &lt;int&gt; |\n",
       "|---|---|\n",
       "| R     | 43 |\n",
       "| PG    |  7 |\n",
       "| PG-13 | 11 |\n",
       "| G     |  6 |\n",
       "\n"
      ],
      "text/plain": [
       "  category count\n",
       "1 R        43   \n",
       "2 PG        7   \n",
       "3 PG-13    11   \n",
       "4 G         6   "
      ]
     },
     "metadata": {},
     "output_type": "display_data"
    }
   ],
   "source": [
    "movies_split <- initial_split(changed_movies, prop = 0.75, strata = category)  \n",
    "movies_train <- training(movies_split)   \n",
    "movies_test <- testing(movies_split)\n",
    "movies_count <- nrow(movies_train)\n",
    "movies_train |>\n",
    "  group_by(category) |>\n",
    "  summarize(count = n())"
   ]
  },
  {
   "cell_type": "markdown",
   "id": "e7b04e10-26f2-4e73-8f54-61d13a14f1c0",
   "metadata": {},
   "source": [
    "#### A line graph of number of neighbors (K) and prediction accuracy"
   ]
  },
  {
   "cell_type": "code",
   "execution_count": 6,
   "id": "8cfe304b-2cf1-4b73-afc4-5acc719314ee",
   "metadata": {},
   "outputs": [
    {
     "name": "stderr",
     "output_type": "stream",
     "text": [
      "\u001b[33m!\u001b[39m \u001b[33mFold3: internal:\n",
      "  No observations were detected in `truth` for level(s): 'G'\n",
      "  Computation will proceed by ignoring those levels.\u001b[39m\n",
      "\n"
     ]
    },
    {
     "data": {
      "image/png": "[encoded data removed]",
      "text/plain": [
       "plot without title"
      ]
     },
     "metadata": {
      "image/png": {
       "height": 420,
       "width": 420
      }
     },
     "output_type": "display_data"
    }
   ],
   "source": [
    "movies_split <- initial_split(changed_movies, prop = 0.75, strata = category)\n",
    "training_movies <- training(movies_split)\n",
    "testing_movies <- testing(movies_split)\n",
    "\n",
    "knn_spec <- nearest_neighbor(weight_func = \"rectangular\", neighbors = tune()) |>\n",
    "    set_engine(\"kknn\") |>\n",
    "    set_mode(\"classification\")\n",
    "\n",
    "movies_recipe <- recipe(category ~ run_time + votes + imdb_rating, data = changed_movies) |>\n",
    "    step_scale(all_predictors()) |>\n",
    "    step_center(all_predictors())\n",
    "\n",
    "movies_vfold <- vfold_cv(training_movies, v = 5, strata = category)\n",
    "\n",
    "grid_vals <- tibble(neighbors = seq(from = 1, to = 50, by = 5))\n",
    "\n",
    "knn_results <- workflow() |>\n",
    "    add_recipe(movies_recipe) |>\n",
    "    add_model(knn_spec) |>\n",
    "    tune_grid(resamples = movies_vfold, grid = grid_vals) |>\n",
    "    collect_metrics()\n",
    "\n",
    "accuracy <- knn_results |>\n",
    "    filter(.metric == \"accuracy\") |>\n",
    "    arrange(desc(mean))\n",
    "\n",
    "movies_plot <- ggplot(accuracy, aes(x = neighbors, y = mean))+\n",
    "    geom_point()+\n",
    "    geom_line()+\n",
    "    labs(x = \"Neighbors\", y = \"Accuracy Estimate\")+\n",
    "    theme(text = element_text(size = 20))\n",
    "\n",
    "movies_plot"
   ]
  },
  {
   "cell_type": "markdown",
   "id": "8002aa98-6b1f-42b2-ae23-372ac9f1974f",
   "metadata": {},
   "source": [
    "### Expected outcomes and significance"
   ]
  },
  {
   "cell_type": "code",
   "execution_count": null,
   "id": "bc6205a9-e2d9-4932-aced-203567566b22",
   "metadata": {},
   "outputs": [],
   "source": []
  }
 ],
 "metadata": {
  "kernelspec": {
   "display_name": "R",
   "language": "R",
   "name": "ir"
  },
  "language_info": {
   "codemirror_mode": "r",
   "file_extension": ".r",
   "mimetype": "text/x-r-source",
   "name": "R",
   "pygments_lexer": "r",
   "version": "4.1.3"
  }
 },
 "nbformat": 4,
 "nbformat_minor": 5
}
