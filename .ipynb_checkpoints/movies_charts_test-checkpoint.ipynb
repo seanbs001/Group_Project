{
 "cells": [
  {
   "cell_type": "code",
   "execution_count": 1,
   "id": "4bf6d879-4bd5-4392-9d5f-1251d0fa1a73",
   "metadata": {},
   "outputs": [
    {
     "name": "stderr",
     "output_type": "stream",
     "text": [
      "── \u001b[1mAttaching packages\u001b[22m ─────────────────────────────────────── tidyverse 1.3.1 ──\n",
      "\n",
      "\u001b[32m✔\u001b[39m \u001b[34mggplot2\u001b[39m 3.3.6     \u001b[32m✔\u001b[39m \u001b[34mpurrr  \u001b[39m 0.3.4\n",
      "\u001b[32m✔\u001b[39m \u001b[34mtibble \u001b[39m 3.1.7     \u001b[32m✔\u001b[39m \u001b[34mdplyr  \u001b[39m 1.0.9\n",
      "\u001b[32m✔\u001b[39m \u001b[34mtidyr  \u001b[39m 1.2.0     \u001b[32m✔\u001b[39m \u001b[34mstringr\u001b[39m 1.4.0\n",
      "\u001b[32m✔\u001b[39m \u001b[34mreadr  \u001b[39m 2.1.2     \u001b[32m✔\u001b[39m \u001b[34mforcats\u001b[39m 0.5.1\n",
      "\n",
      "── \u001b[1mConflicts\u001b[22m ────────────────────────────────────────── tidyverse_conflicts() ──\n",
      "\u001b[31m✖\u001b[39m \u001b[34mdplyr\u001b[39m::\u001b[32mfilter()\u001b[39m masks \u001b[34mstats\u001b[39m::filter()\n",
      "\u001b[31m✖\u001b[39m \u001b[34mdplyr\u001b[39m::\u001b[32mlag()\u001b[39m    masks \u001b[34mstats\u001b[39m::lag()\n",
      "\n",
      "── \u001b[1mAttaching packages\u001b[22m ────────────────────────────────────── tidymodels 1.0.0 ──\n",
      "\n",
      "\u001b[32m✔\u001b[39m \u001b[34mbroom       \u001b[39m 1.0.0     \u001b[32m✔\u001b[39m \u001b[34mrsample     \u001b[39m 1.0.0\n",
      "\u001b[32m✔\u001b[39m \u001b[34mdials       \u001b[39m 1.0.0     \u001b[32m✔\u001b[39m \u001b[34mtune        \u001b[39m 1.0.0\n",
      "\u001b[32m✔\u001b[39m \u001b[34minfer       \u001b[39m 1.0.2     \u001b[32m✔\u001b[39m \u001b[34mworkflows   \u001b[39m 1.0.0\n",
      "\u001b[32m✔\u001b[39m \u001b[34mmodeldata   \u001b[39m 1.0.0     \u001b[32m✔\u001b[39m \u001b[34mworkflowsets\u001b[39m 1.0.0\n",
      "\u001b[32m✔\u001b[39m \u001b[34mparsnip     \u001b[39m 1.0.0     \u001b[32m✔\u001b[39m \u001b[34myardstick   \u001b[39m 1.0.0\n",
      "\u001b[32m✔\u001b[39m \u001b[34mrecipes     \u001b[39m 1.0.1     \n",
      "\n",
      "── \u001b[1mConflicts\u001b[22m ───────────────────────────────────────── tidymodels_conflicts() ──\n",
      "\u001b[31m✖\u001b[39m \u001b[34mscales\u001b[39m::\u001b[32mdiscard()\u001b[39m masks \u001b[34mpurrr\u001b[39m::discard()\n",
      "\u001b[31m✖\u001b[39m \u001b[34mdplyr\u001b[39m::\u001b[32mfilter()\u001b[39m   masks \u001b[34mstats\u001b[39m::filter()\n",
      "\u001b[31m✖\u001b[39m \u001b[34mrecipes\u001b[39m::\u001b[32mfixed()\u001b[39m  masks \u001b[34mstringr\u001b[39m::fixed()\n",
      "\u001b[31m✖\u001b[39m \u001b[34mdplyr\u001b[39m::\u001b[32mlag()\u001b[39m      masks \u001b[34mstats\u001b[39m::lag()\n",
      "\u001b[31m✖\u001b[39m \u001b[34myardstick\u001b[39m::\u001b[32mspec()\u001b[39m masks \u001b[34mreadr\u001b[39m::spec()\n",
      "\u001b[31m✖\u001b[39m \u001b[34mrecipes\u001b[39m::\u001b[32mstep()\u001b[39m   masks \u001b[34mstats\u001b[39m::step()\n",
      "\u001b[34m•\u001b[39m Learn how to get started at \u001b[32mhttps://www.tidymodels.org/start/\u001b[39m\n",
      "\n",
      "Warning message in file(filename, \"r\", encoding = encoding):\n",
      "“cannot open file 'tests.R': No such file or directory”\n"
     ]
    },
    {
     "ename": "ERROR",
     "evalue": "Error in file(filename, \"r\", encoding = encoding): cannot open the connection\n",
     "output_type": "error",
     "traceback": [
      "Error in file(filename, \"r\", encoding = encoding): cannot open the connection\nTraceback:\n",
      "1. source(\"tests.R\")",
      "2. file(filename, \"r\", encoding = encoding)"
     ]
    }
   ],
   "source": [
    "### Run this cell before continuing. \n",
    "library(tidyverse)\n",
    "library(stringr)\n",
    "library(repr)\n",
    "library(tidymodels)\n",
    "options(repr.matrix.max.rows = 6)\n",
    "source('tests.R')\n",
    "source(\"cleanup.R\")"
   ]
  },
  {
   "cell_type": "code",
   "execution_count": 2,
   "id": "3ca79a91-b666-4ff3-8328-77b65c9a0ee8",
   "metadata": {},
   "outputs": [
    {
     "name": "stderr",
     "output_type": "stream",
     "text": [
      "\u001b[1mRows: \u001b[22m\u001b[34m99\u001b[39m \u001b[1mColumns: \u001b[22m\u001b[34m9\u001b[39m\n",
      "\u001b[36m──\u001b[39m \u001b[1mColumn specification\u001b[22m \u001b[36m────────────────────────────────────────────────────────\u001b[39m\n",
      "\u001b[1mDelimiter:\u001b[22m \",\"\n",
      "\u001b[31mchr\u001b[39m (6): movie_name, year_of_release, category, run_time, genre, gross_total\n",
      "\u001b[32mdbl\u001b[39m (2): index, imdb_rating\n",
      "\n",
      "\u001b[36mℹ\u001b[39m Use `spec()` to retrieve the full column specification for this data.\n",
      "\u001b[36mℹ\u001b[39m Specify the column types or set `show_col_types = FALSE` to quiet this message.\n"
     ]
    },
    {
     "data": {
      "text/html": [
       "<table class=\"dataframe\">\n",
       "<caption>A spec_tbl_df: 99 × 9</caption>\n",
       "<thead>\n",
       "\t<tr><th scope=col>index</th><th scope=col>movie_name</th><th scope=col>year_of_release</th><th scope=col>category</th><th scope=col>run_time</th><th scope=col>genre</th><th scope=col>imdb_rating</th><th scope=col>votes</th><th scope=col>gross_total</th></tr>\n",
       "\t<tr><th scope=col>&lt;dbl&gt;</th><th scope=col>&lt;chr&gt;</th><th scope=col>&lt;chr&gt;</th><th scope=col>&lt;chr&gt;</th><th scope=col>&lt;chr&gt;</th><th scope=col>&lt;chr&gt;</th><th scope=col>&lt;dbl&gt;</th><th scope=col>&lt;dbl&gt;</th><th scope=col>&lt;chr&gt;</th></tr>\n",
       "</thead>\n",
       "<tbody>\n",
       "\t<tr><td>1</td><td>The Godfather                                 </td><td>(1972)</td><td>R </td><td>175 min</td><td>Crime, Drama              </td><td>9.2</td><td>1860471</td><td>$134.97M</td></tr>\n",
       "\t<tr><td>2</td><td>The Silence of the Lambs                      </td><td>(1991)</td><td>R </td><td>118 min</td><td>Crime, Drama, Thriller    </td><td>8.6</td><td>1435344</td><td>$130.74M</td></tr>\n",
       "\t<tr><td>3</td><td>Star Wars: Episode V - The Empire Strikes Back</td><td>(1980)</td><td>PG</td><td>124 min</td><td>Action, Adventure, Fantasy</td><td>8.7</td><td>1294805</td><td>$290.48M</td></tr>\n",
       "\t<tr><td>⋮</td><td>⋮</td><td>⋮</td><td>⋮</td><td>⋮</td><td>⋮</td><td>⋮</td><td>⋮</td><td>⋮</td></tr>\n",
       "\t<tr><td>97</td><td>Eternal Sunshine of the Spotless Mind</td><td>(2004)</td><td>R</td><td>108 min</td><td>Drama, Romance, Sci-Fi</td><td>8.3</td><td>1011004</td><td>$34.40M </td></tr>\n",
       "\t<tr><td>98</td><td>City Lights                          </td><td>(1931)</td><td>G</td><td>87 min </td><td>Comedy, Drama, Romance</td><td>8.5</td><td> 186059</td><td>$0.02M  </td></tr>\n",
       "\t<tr><td>99</td><td>The Matrix                           </td><td>(1999)</td><td>R</td><td>136 min</td><td>Action, Sci-Fi        </td><td>8.7</td><td>1916083</td><td>$171.48M</td></tr>\n",
       "</tbody>\n",
       "</table>\n"
      ],
      "text/latex": [
       "A spec\\_tbl\\_df: 99 × 9\n",
       "\\begin{tabular}{lllllllll}\n",
       " index & movie\\_name & year\\_of\\_release & category & run\\_time & genre & imdb\\_rating & votes & gross\\_total\\\\\n",
       " <dbl> & <chr> & <chr> & <chr> & <chr> & <chr> & <dbl> & <dbl> & <chr>\\\\\n",
       "\\hline\n",
       "\t 1 & The Godfather                                  & (1972) & R  & 175 min & Crime, Drama               & 9.2 & 1860471 & \\$134.97M\\\\\n",
       "\t 2 & The Silence of the Lambs                       & (1991) & R  & 118 min & Crime, Drama, Thriller     & 8.6 & 1435344 & \\$130.74M\\\\\n",
       "\t 3 & Star Wars: Episode V - The Empire Strikes Back & (1980) & PG & 124 min & Action, Adventure, Fantasy & 8.7 & 1294805 & \\$290.48M\\\\\n",
       "\t ⋮ & ⋮ & ⋮ & ⋮ & ⋮ & ⋮ & ⋮ & ⋮ & ⋮\\\\\n",
       "\t 97 & Eternal Sunshine of the Spotless Mind & (2004) & R & 108 min & Drama, Romance, Sci-Fi & 8.3 & 1011004 & \\$34.40M \\\\\n",
       "\t 98 & City Lights                           & (1931) & G & 87 min  & Comedy, Drama, Romance & 8.5 &  186059 & \\$0.02M  \\\\\n",
       "\t 99 & The Matrix                            & (1999) & R & 136 min & Action, Sci-Fi         & 8.7 & 1916083 & \\$171.48M\\\\\n",
       "\\end{tabular}\n"
      ],
      "text/markdown": [
       "\n",
       "A spec_tbl_df: 99 × 9\n",
       "\n",
       "| index &lt;dbl&gt; | movie_name &lt;chr&gt; | year_of_release &lt;chr&gt; | category &lt;chr&gt; | run_time &lt;chr&gt; | genre &lt;chr&gt; | imdb_rating &lt;dbl&gt; | votes &lt;dbl&gt; | gross_total &lt;chr&gt; |\n",
       "|---|---|---|---|---|---|---|---|---|\n",
       "| 1 | The Godfather                                  | (1972) | R  | 175 min | Crime, Drama               | 9.2 | 1860471 | $134.97M |\n",
       "| 2 | The Silence of the Lambs                       | (1991) | R  | 118 min | Crime, Drama, Thriller     | 8.6 | 1435344 | $130.74M |\n",
       "| 3 | Star Wars: Episode V - The Empire Strikes Back | (1980) | PG | 124 min | Action, Adventure, Fantasy | 8.7 | 1294805 | $290.48M |\n",
       "| ⋮ | ⋮ | ⋮ | ⋮ | ⋮ | ⋮ | ⋮ | ⋮ | ⋮ |\n",
       "| 97 | Eternal Sunshine of the Spotless Mind | (2004) | R | 108 min | Drama, Romance, Sci-Fi | 8.3 | 1011004 | $34.40M  |\n",
       "| 98 | City Lights                           | (1931) | G | 87 min  | Comedy, Drama, Romance | 8.5 |  186059 | $0.02M   |\n",
       "| 99 | The Matrix                            | (1999) | R | 136 min | Action, Sci-Fi         | 8.7 | 1916083 | $171.48M |\n",
       "\n"
      ],
      "text/plain": [
       "   index movie_name                                     year_of_release\n",
       "1  1     The Godfather                                  (1972)         \n",
       "2  2     The Silence of the Lambs                       (1991)         \n",
       "3  3     Star Wars: Episode V - The Empire Strikes Back (1980)         \n",
       "⋮  ⋮     ⋮                                              ⋮              \n",
       "97 97    Eternal Sunshine of the Spotless Mind          (2004)         \n",
       "98 98    City Lights                                    (1931)         \n",
       "99 99    The Matrix                                     (1999)         \n",
       "   category run_time genre                      imdb_rating votes   gross_total\n",
       "1  R        175 min  Crime, Drama               9.2         1860471 $134.97M   \n",
       "2  R        118 min  Crime, Drama, Thriller     8.6         1435344 $130.74M   \n",
       "3  PG       124 min  Action, Adventure, Fantasy 8.7         1294805 $290.48M   \n",
       "⋮  ⋮        ⋮        ⋮                          ⋮           ⋮       ⋮          \n",
       "97 R        108 min  Drama, Romance, Sci-Fi     8.3         1011004 $34.40M    \n",
       "98 G        87 min   Comedy, Drama, Romance     8.5          186059 $0.02M     \n",
       "99 R        136 min  Action, Sci-Fi             8.7         1916083 $171.48M   "
      ]
     },
     "metadata": {},
     "output_type": "display_data"
    }
   ],
   "source": [
    "movies_csv <- read_csv(\"movies.csv\")\n",
    "movies_csv"
   ]
  },
  {
   "cell_type": "code",
   "execution_count": 30,
   "id": "ed6026dc-cd2e-49eb-80f5-e2211cccde9e",
   "metadata": {},
   "outputs": [
    {
     "data": {
      "text/html": [
       "<table class=\"dataframe\">\n",
       "<caption>A tibble: 99 × 4</caption>\n",
       "<thead>\n",
       "\t<tr><th scope=col>category</th><th scope=col>run_time</th><th scope=col>votes</th><th scope=col>imdb_rating</th></tr>\n",
       "\t<tr><th scope=col>&lt;chr&gt;</th><th scope=col>&lt;chr&gt;</th><th scope=col>&lt;dbl&gt;</th><th scope=col>&lt;dbl&gt;</th></tr>\n",
       "</thead>\n",
       "<tbody>\n",
       "\t<tr><td>R </td><td>175 min</td><td>1860471</td><td>9.2</td></tr>\n",
       "\t<tr><td>R </td><td>118 min</td><td>1435344</td><td>8.6</td></tr>\n",
       "\t<tr><td>PG</td><td>124 min</td><td>1294805</td><td>8.7</td></tr>\n",
       "\t<tr><td>⋮</td><td>⋮</td><td>⋮</td><td>⋮</td></tr>\n",
       "\t<tr><td>R</td><td>108 min</td><td>1011004</td><td>8.3</td></tr>\n",
       "\t<tr><td>G</td><td>87 min </td><td> 186059</td><td>8.5</td></tr>\n",
       "\t<tr><td>R</td><td>136 min</td><td>1916083</td><td>8.7</td></tr>\n",
       "</tbody>\n",
       "</table>\n"
      ],
      "text/latex": [
       "A tibble: 99 × 4\n",
       "\\begin{tabular}{llll}\n",
       " category & run\\_time & votes & imdb\\_rating\\\\\n",
       " <chr> & <chr> & <dbl> & <dbl>\\\\\n",
       "\\hline\n",
       "\t R  & 175 min & 1860471 & 9.2\\\\\n",
       "\t R  & 118 min & 1435344 & 8.6\\\\\n",
       "\t PG & 124 min & 1294805 & 8.7\\\\\n",
       "\t ⋮ & ⋮ & ⋮ & ⋮\\\\\n",
       "\t R & 108 min & 1011004 & 8.3\\\\\n",
       "\t G & 87 min  &  186059 & 8.5\\\\\n",
       "\t R & 136 min & 1916083 & 8.7\\\\\n",
       "\\end{tabular}\n"
      ],
      "text/markdown": [
       "\n",
       "A tibble: 99 × 4\n",
       "\n",
       "| category &lt;chr&gt; | run_time &lt;chr&gt; | votes &lt;dbl&gt; | imdb_rating &lt;dbl&gt; |\n",
       "|---|---|---|---|\n",
       "| R  | 175 min | 1860471 | 9.2 |\n",
       "| R  | 118 min | 1435344 | 8.6 |\n",
       "| PG | 124 min | 1294805 | 8.7 |\n",
       "| ⋮ | ⋮ | ⋮ | ⋮ |\n",
       "| R | 108 min | 1011004 | 8.3 |\n",
       "| G | 87 min  |  186059 | 8.5 |\n",
       "| R | 136 min | 1916083 | 8.7 |\n",
       "\n"
      ],
      "text/plain": [
       "   category run_time votes   imdb_rating\n",
       "1  R        175 min  1860471 9.2        \n",
       "2  R        118 min  1435344 8.6        \n",
       "3  PG       124 min  1294805 8.7        \n",
       "⋮  ⋮        ⋮        ⋮       ⋮          \n",
       "97 R        108 min  1011004 8.3        \n",
       "98 G        87 min    186059 8.5        \n",
       "99 R        136 min  1916083 8.7        "
      ]
     },
     "metadata": {},
     "output_type": "display_data"
    }
   ],
   "source": [
    "select_movies <- select(movies_csv, category, run_time, votes, imdb_rating)\n",
    "select_movies"
   ]
  },
  {
   "cell_type": "code",
   "execution_count": 31,
   "id": "b8ca282e-886f-4687-8db3-981eec8fed0c",
   "metadata": {},
   "outputs": [
    {
     "data": {
      "text/html": [
       "<table class=\"dataframe\">\n",
       "<caption>A tibble: 91 × 4</caption>\n",
       "<thead>\n",
       "\t<tr><th scope=col>category</th><th scope=col>run_time</th><th scope=col>votes</th><th scope=col>imdb_rating</th></tr>\n",
       "\t<tr><th scope=col>&lt;chr&gt;</th><th scope=col>&lt;chr&gt;</th><th scope=col>&lt;dbl&gt;</th><th scope=col>&lt;dbl&gt;</th></tr>\n",
       "</thead>\n",
       "<tbody>\n",
       "\t<tr><td>R </td><td>175 min</td><td>1860471</td><td>9.2</td></tr>\n",
       "\t<tr><td>R </td><td>118 min</td><td>1435344</td><td>8.6</td></tr>\n",
       "\t<tr><td>PG</td><td>124 min</td><td>1294805</td><td>8.7</td></tr>\n",
       "\t<tr><td>⋮</td><td>⋮</td><td>⋮</td><td>⋮</td></tr>\n",
       "\t<tr><td>R</td><td>108 min</td><td>1011004</td><td>8.3</td></tr>\n",
       "\t<tr><td>G</td><td>87 min </td><td> 186059</td><td>8.5</td></tr>\n",
       "\t<tr><td>R</td><td>136 min</td><td>1916083</td><td>8.7</td></tr>\n",
       "</tbody>\n",
       "</table>\n"
      ],
      "text/latex": [
       "A tibble: 91 × 4\n",
       "\\begin{tabular}{llll}\n",
       " category & run\\_time & votes & imdb\\_rating\\\\\n",
       " <chr> & <chr> & <dbl> & <dbl>\\\\\n",
       "\\hline\n",
       "\t R  & 175 min & 1860471 & 9.2\\\\\n",
       "\t R  & 118 min & 1435344 & 8.6\\\\\n",
       "\t PG & 124 min & 1294805 & 8.7\\\\\n",
       "\t ⋮ & ⋮ & ⋮ & ⋮\\\\\n",
       "\t R & 108 min & 1011004 & 8.3\\\\\n",
       "\t G & 87 min  &  186059 & 8.5\\\\\n",
       "\t R & 136 min & 1916083 & 8.7\\\\\n",
       "\\end{tabular}\n"
      ],
      "text/markdown": [
       "\n",
       "A tibble: 91 × 4\n",
       "\n",
       "| category &lt;chr&gt; | run_time &lt;chr&gt; | votes &lt;dbl&gt; | imdb_rating &lt;dbl&gt; |\n",
       "|---|---|---|---|\n",
       "| R  | 175 min | 1860471 | 9.2 |\n",
       "| R  | 118 min | 1435344 | 8.6 |\n",
       "| PG | 124 min | 1294805 | 8.7 |\n",
       "| ⋮ | ⋮ | ⋮ | ⋮ |\n",
       "| R | 108 min | 1011004 | 8.3 |\n",
       "| G | 87 min  |  186059 | 8.5 |\n",
       "| R | 136 min | 1916083 | 8.7 |\n",
       "\n"
      ],
      "text/plain": [
       "   category run_time votes   imdb_rating\n",
       "1  R        175 min  1860471 9.2        \n",
       "2  R        118 min  1435344 8.6        \n",
       "3  PG       124 min  1294805 8.7        \n",
       "⋮  ⋮        ⋮        ⋮       ⋮          \n",
       "89 R        108 min  1011004 8.3        \n",
       "90 G        87 min    186059 8.5        \n",
       "91 R        136 min  1916083 8.7        "
      ]
     },
     "metadata": {},
     "output_type": "display_data"
    }
   ],
   "source": [
    "filter_movies <- filter(select_movies, category != \"Approved\", category != \"Passed\", category != \"GP\")\n",
    "filter_movies"
   ]
  },
  {
   "cell_type": "code",
   "execution_count": 35,
   "id": "97bb3c05-eaba-4318-a40a-9f3aa73c0fa7",
   "metadata": {},
   "outputs": [
    {
     "data": {
      "text/html": [
       "<table class=\"dataframe\">\n",
       "<caption>A tibble: 1 × 1</caption>\n",
       "<thead>\n",
       "\t<tr><th scope=col>.pred_class</th></tr>\n",
       "\t<tr><th scope=col>&lt;fct&gt;</th></tr>\n",
       "</thead>\n",
       "<tbody>\n",
       "\t<tr><td>R</td></tr>\n",
       "</tbody>\n",
       "</table>\n"
      ],
      "text/latex": [
       "A tibble: 1 × 1\n",
       "\\begin{tabular}{l}\n",
       " .pred\\_class\\\\\n",
       " <fct>\\\\\n",
       "\\hline\n",
       "\t R\\\\\n",
       "\\end{tabular}\n"
      ],
      "text/markdown": [
       "\n",
       "A tibble: 1 × 1\n",
       "\n",
       "| .pred_class &lt;fct&gt; |\n",
       "|---|\n",
       "| R |\n",
       "\n"
      ],
      "text/plain": [
       "  .pred_class\n",
       "1 R          "
      ]
     },
     "metadata": {},
     "output_type": "display_data"
    }
   ],
   "source": [
    "set.seed(9999) \n",
    "\n",
    "mutated_movies <- mutate(filter_movies, category = as_factor(category))\n",
    "changed_movies <- mutated_movies |>\n",
    "    mutate(run_time = str_replace_all(run_time, \"([min])\", \"\"))|>\n",
    "    mutate(run_time = as.numeric(run_time))\n",
    "\n",
    "knn_spec_all <- nearest_neighbor(weight_func = \"rectangular\", neighbors = 5) |>\n",
    "       set_engine(\"kknn\") |>\n",
    "       set_mode(\"classification\")\n",
    "\n",
    "movies_data_recipe_all <- recipe(category ~ run_time + votes + imdb_rating, data = changed_movies) |>\n",
    "                        step_scale(all_predictors()) |>\n",
    "                        step_center(all_predictors())\n",
    "\n",
    "movies_fit_all <- workflow() |>\n",
    "          add_recipe(movies_data_recipe_all) |>\n",
    "          add_model(knn_spec_all) |>\n",
    "          fit(data = changed_movies)\n",
    "\n",
    "new_movie <- tibble(run_time = 80, \n",
    "                            votes = 3947582, \n",
    "                            imdb_rating = 5)\n",
    "\n",
    "movie_all_predicted <- predict(movies_fit_all, new_movie)\n",
    "movie_all_predicted"
   ]
  }
 ],
 "metadata": {
  "kernelspec": {
   "display_name": "R",
   "language": "R",
   "name": "ir"
  },
  "language_info": {
   "codemirror_mode": "r",
   "file_extension": ".r",
   "mimetype": "text/x-r-source",
   "name": "R",
   "pygments_lexer": "r",
   "version": "4.1.3"
  }
 },
 "nbformat": 4,
 "nbformat_minor": 5
}
