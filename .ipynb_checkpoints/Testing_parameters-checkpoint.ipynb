{
 "cells": [
  {
   "cell_type": "code",
   "execution_count": 1,
   "id": "71c4ffa0-fd6f-4a92-9301-c2f9ea1d37a9",
   "metadata": {},
   "outputs": [
    {
     "name": "stderr",
     "output_type": "stream",
     "text": [
      "── \u001b[1mAttaching packages\u001b[22m ─────────────────────────────────────── tidyverse 1.3.1 ──\n",
      "\n",
      "\u001b[32m✔\u001b[39m \u001b[34mggplot2\u001b[39m 3.3.6     \u001b[32m✔\u001b[39m \u001b[34mpurrr  \u001b[39m 0.3.4\n",
      "\u001b[32m✔\u001b[39m \u001b[34mtibble \u001b[39m 3.1.7     \u001b[32m✔\u001b[39m \u001b[34mdplyr  \u001b[39m 1.0.9\n",
      "\u001b[32m✔\u001b[39m \u001b[34mtidyr  \u001b[39m 1.2.0     \u001b[32m✔\u001b[39m \u001b[34mstringr\u001b[39m 1.4.0\n",
      "\u001b[32m✔\u001b[39m \u001b[34mreadr  \u001b[39m 2.1.2     \u001b[32m✔\u001b[39m \u001b[34mforcats\u001b[39m 0.5.1\n",
      "\n",
      "── \u001b[1mConflicts\u001b[22m ────────────────────────────────────────── tidyverse_conflicts() ──\n",
      "\u001b[31m✖\u001b[39m \u001b[34mdplyr\u001b[39m::\u001b[32mfilter()\u001b[39m masks \u001b[34mstats\u001b[39m::filter()\n",
      "\u001b[31m✖\u001b[39m \u001b[34mdplyr\u001b[39m::\u001b[32mlag()\u001b[39m    masks \u001b[34mstats\u001b[39m::lag()\n",
      "\n",
      "── \u001b[1mAttaching packages\u001b[22m ────────────────────────────────────── tidymodels 1.0.0 ──\n",
      "\n",
      "\u001b[32m✔\u001b[39m \u001b[34mbroom       \u001b[39m 1.0.0     \u001b[32m✔\u001b[39m \u001b[34mrsample     \u001b[39m 1.0.0\n",
      "\u001b[32m✔\u001b[39m \u001b[34mdials       \u001b[39m 1.0.0     \u001b[32m✔\u001b[39m \u001b[34mtune        \u001b[39m 1.0.0\n",
      "\u001b[32m✔\u001b[39m \u001b[34minfer       \u001b[39m 1.0.2     \u001b[32m✔\u001b[39m \u001b[34mworkflows   \u001b[39m 1.0.0\n",
      "\u001b[32m✔\u001b[39m \u001b[34mmodeldata   \u001b[39m 1.0.0     \u001b[32m✔\u001b[39m \u001b[34mworkflowsets\u001b[39m 1.0.0\n",
      "\u001b[32m✔\u001b[39m \u001b[34mparsnip     \u001b[39m 1.0.0     \u001b[32m✔\u001b[39m \u001b[34myardstick   \u001b[39m 1.0.0\n",
      "\u001b[32m✔\u001b[39m \u001b[34mrecipes     \u001b[39m 1.0.1     \n",
      "\n",
      "── \u001b[1mConflicts\u001b[22m ───────────────────────────────────────── tidymodels_conflicts() ──\n",
      "\u001b[31m✖\u001b[39m \u001b[34mscales\u001b[39m::\u001b[32mdiscard()\u001b[39m masks \u001b[34mpurrr\u001b[39m::discard()\n",
      "\u001b[31m✖\u001b[39m \u001b[34mdplyr\u001b[39m::\u001b[32mfilter()\u001b[39m   masks \u001b[34mstats\u001b[39m::filter()\n",
      "\u001b[31m✖\u001b[39m \u001b[34mrecipes\u001b[39m::\u001b[32mfixed()\u001b[39m  masks \u001b[34mstringr\u001b[39m::fixed()\n",
      "\u001b[31m✖\u001b[39m \u001b[34mdplyr\u001b[39m::\u001b[32mlag()\u001b[39m      masks \u001b[34mstats\u001b[39m::lag()\n",
      "\u001b[31m✖\u001b[39m \u001b[34myardstick\u001b[39m::\u001b[32mspec()\u001b[39m masks \u001b[34mreadr\u001b[39m::spec()\n",
      "\u001b[31m✖\u001b[39m \u001b[34mrecipes\u001b[39m::\u001b[32mstep()\u001b[39m   masks \u001b[34mstats\u001b[39m::step()\n",
      "\u001b[34m•\u001b[39m Use \u001b[32mtidymodels_prefer()\u001b[39m to resolve common conflicts.\n",
      "\n",
      "Warning message in file(filename, \"r\", encoding = encoding):\n",
      "“cannot open file 'tests.R': No such file or directory”\n"
     ]
    },
    {
     "ename": "ERROR",
     "evalue": "Error in file(filename, \"r\", encoding = encoding): cannot open the connection\n",
     "output_type": "error",
     "traceback": [
      "Error in file(filename, \"r\", encoding = encoding): cannot open the connection\nTraceback:\n",
      "1. source(\"tests.R\")",
      "2. file(filename, \"r\", encoding = encoding)"
     ]
    }
   ],
   "source": [
    "### Run this cell before continuing. \n",
    "library(tidyverse)\n",
    "library(stringr)\n",
    "library(repr)\n",
    "library(tidymodels)\n",
    "options(repr.matrix.max.rows = 6)\n",
    "source('tests.R')\n",
    "source(\"cleanup.R\")"
   ]
  },
  {
   "cell_type": "code",
   "execution_count": 2,
   "id": "d898ba6f-7de0-40f7-8f90-366276b5938c",
   "metadata": {},
   "outputs": [
    {
     "name": "stderr",
     "output_type": "stream",
     "text": [
      "\u001b[1mRows: \u001b[22m\u001b[34m99\u001b[39m \u001b[1mColumns: \u001b[22m\u001b[34m9\u001b[39m\n",
      "\u001b[36m──\u001b[39m \u001b[1mColumn specification\u001b[22m \u001b[36m────────────────────────────────────────────────────────\u001b[39m\n",
      "\u001b[1mDelimiter:\u001b[22m \",\"\n",
      "\u001b[31mchr\u001b[39m (6): movie_name, year_of_release, category, run_time, genre, gross_total\n",
      "\u001b[32mdbl\u001b[39m (2): index, imdb_rating\n",
      "\n",
      "\u001b[36mℹ\u001b[39m Use `spec()` to retrieve the full column specification for this data.\n",
      "\u001b[36mℹ\u001b[39m Specify the column types or set `show_col_types = FALSE` to quiet this message.\n"
     ]
    },
    {
     "data": {
      "text/html": [
       "<table class=\"dataframe\">\n",
       "<caption>A spec_tbl_df: 99 × 9</caption>\n",
       "<thead>\n",
       "\t<tr><th scope=col>index</th><th scope=col>movie_name</th><th scope=col>year_of_release</th><th scope=col>category</th><th scope=col>run_time</th><th scope=col>genre</th><th scope=col>imdb_rating</th><th scope=col>votes</th><th scope=col>gross_total</th></tr>\n",
       "\t<tr><th scope=col>&lt;dbl&gt;</th><th scope=col>&lt;chr&gt;</th><th scope=col>&lt;chr&gt;</th><th scope=col>&lt;chr&gt;</th><th scope=col>&lt;chr&gt;</th><th scope=col>&lt;chr&gt;</th><th scope=col>&lt;dbl&gt;</th><th scope=col>&lt;dbl&gt;</th><th scope=col>&lt;chr&gt;</th></tr>\n",
       "</thead>\n",
       "<tbody>\n",
       "\t<tr><td>1</td><td>The Godfather                                 </td><td>(1972)</td><td>R </td><td>175 min</td><td>Crime, Drama              </td><td>9.2</td><td>1860471</td><td>$134.97M</td></tr>\n",
       "\t<tr><td>2</td><td>The Silence of the Lambs                      </td><td>(1991)</td><td>R </td><td>118 min</td><td>Crime, Drama, Thriller    </td><td>8.6</td><td>1435344</td><td>$130.74M</td></tr>\n",
       "\t<tr><td>3</td><td>Star Wars: Episode V - The Empire Strikes Back</td><td>(1980)</td><td>PG</td><td>124 min</td><td>Action, Adventure, Fantasy</td><td>8.7</td><td>1294805</td><td>$290.48M</td></tr>\n",
       "\t<tr><td>⋮</td><td>⋮</td><td>⋮</td><td>⋮</td><td>⋮</td><td>⋮</td><td>⋮</td><td>⋮</td><td>⋮</td></tr>\n",
       "\t<tr><td>97</td><td>Eternal Sunshine of the Spotless Mind</td><td>(2004)</td><td>R</td><td>108 min</td><td>Drama, Romance, Sci-Fi</td><td>8.3</td><td>1011004</td><td>$34.40M </td></tr>\n",
       "\t<tr><td>98</td><td>City Lights                          </td><td>(1931)</td><td>G</td><td>87 min </td><td>Comedy, Drama, Romance</td><td>8.5</td><td> 186059</td><td>$0.02M  </td></tr>\n",
       "\t<tr><td>99</td><td>The Matrix                           </td><td>(1999)</td><td>R</td><td>136 min</td><td>Action, Sci-Fi        </td><td>8.7</td><td>1916083</td><td>$171.48M</td></tr>\n",
       "</tbody>\n",
       "</table>\n"
      ],
      "text/latex": [
       "A spec\\_tbl\\_df: 99 × 9\n",
       "\\begin{tabular}{lllllllll}\n",
       " index & movie\\_name & year\\_of\\_release & category & run\\_time & genre & imdb\\_rating & votes & gross\\_total\\\\\n",
       " <dbl> & <chr> & <chr> & <chr> & <chr> & <chr> & <dbl> & <dbl> & <chr>\\\\\n",
       "\\hline\n",
       "\t 1 & The Godfather                                  & (1972) & R  & 175 min & Crime, Drama               & 9.2 & 1860471 & \\$134.97M\\\\\n",
       "\t 2 & The Silence of the Lambs                       & (1991) & R  & 118 min & Crime, Drama, Thriller     & 8.6 & 1435344 & \\$130.74M\\\\\n",
       "\t 3 & Star Wars: Episode V - The Empire Strikes Back & (1980) & PG & 124 min & Action, Adventure, Fantasy & 8.7 & 1294805 & \\$290.48M\\\\\n",
       "\t ⋮ & ⋮ & ⋮ & ⋮ & ⋮ & ⋮ & ⋮ & ⋮ & ⋮\\\\\n",
       "\t 97 & Eternal Sunshine of the Spotless Mind & (2004) & R & 108 min & Drama, Romance, Sci-Fi & 8.3 & 1011004 & \\$34.40M \\\\\n",
       "\t 98 & City Lights                           & (1931) & G & 87 min  & Comedy, Drama, Romance & 8.5 &  186059 & \\$0.02M  \\\\\n",
       "\t 99 & The Matrix                            & (1999) & R & 136 min & Action, Sci-Fi         & 8.7 & 1916083 & \\$171.48M\\\\\n",
       "\\end{tabular}\n"
      ],
      "text/markdown": [
       "\n",
       "A spec_tbl_df: 99 × 9\n",
       "\n",
       "| index &lt;dbl&gt; | movie_name &lt;chr&gt; | year_of_release &lt;chr&gt; | category &lt;chr&gt; | run_time &lt;chr&gt; | genre &lt;chr&gt; | imdb_rating &lt;dbl&gt; | votes &lt;dbl&gt; | gross_total &lt;chr&gt; |\n",
       "|---|---|---|---|---|---|---|---|---|\n",
       "| 1 | The Godfather                                  | (1972) | R  | 175 min | Crime, Drama               | 9.2 | 1860471 | $134.97M |\n",
       "| 2 | The Silence of the Lambs                       | (1991) | R  | 118 min | Crime, Drama, Thriller     | 8.6 | 1435344 | $130.74M |\n",
       "| 3 | Star Wars: Episode V - The Empire Strikes Back | (1980) | PG | 124 min | Action, Adventure, Fantasy | 8.7 | 1294805 | $290.48M |\n",
       "| ⋮ | ⋮ | ⋮ | ⋮ | ⋮ | ⋮ | ⋮ | ⋮ | ⋮ |\n",
       "| 97 | Eternal Sunshine of the Spotless Mind | (2004) | R | 108 min | Drama, Romance, Sci-Fi | 8.3 | 1011004 | $34.40M  |\n",
       "| 98 | City Lights                           | (1931) | G | 87 min  | Comedy, Drama, Romance | 8.5 |  186059 | $0.02M   |\n",
       "| 99 | The Matrix                            | (1999) | R | 136 min | Action, Sci-Fi         | 8.7 | 1916083 | $171.48M |\n",
       "\n"
      ],
      "text/plain": [
       "   index movie_name                                     year_of_release\n",
       "1  1     The Godfather                                  (1972)         \n",
       "2  2     The Silence of the Lambs                       (1991)         \n",
       "3  3     Star Wars: Episode V - The Empire Strikes Back (1980)         \n",
       "⋮  ⋮     ⋮                                              ⋮              \n",
       "97 97    Eternal Sunshine of the Spotless Mind          (2004)         \n",
       "98 98    City Lights                                    (1931)         \n",
       "99 99    The Matrix                                     (1999)         \n",
       "   category run_time genre                      imdb_rating votes   gross_total\n",
       "1  R        175 min  Crime, Drama               9.2         1860471 $134.97M   \n",
       "2  R        118 min  Crime, Drama, Thriller     8.6         1435344 $130.74M   \n",
       "3  PG       124 min  Action, Adventure, Fantasy 8.7         1294805 $290.48M   \n",
       "⋮  ⋮        ⋮        ⋮                          ⋮           ⋮       ⋮          \n",
       "97 R        108 min  Drama, Romance, Sci-Fi     8.3         1011004 $34.40M    \n",
       "98 G        87 min   Comedy, Drama, Romance     8.5          186059 $0.02M     \n",
       "99 R        136 min  Action, Sci-Fi             8.7         1916083 $171.48M   "
      ]
     },
     "metadata": {},
     "output_type": "display_data"
    }
   ],
   "source": [
    "movies_csv <- read_csv(\"movies.csv\")\n",
    "movies_csv"
   ]
  },
  {
   "cell_type": "code",
   "execution_count": 6,
   "id": "dd155f3a-a5a8-4afe-8e12-fb79af047c12",
   "metadata": {},
   "outputs": [
    {
     "data": {
      "text/html": [
       "<table class=\"dataframe\">\n",
       "<caption>A tibble: 99 × 6</caption>\n",
       "<thead>\n",
       "\t<tr><th scope=col>category</th><th scope=col>run_time</th><th scope=col>votes</th><th scope=col>imdb_rating</th><th scope=col>year_of_release</th><th scope=col>genre</th></tr>\n",
       "\t<tr><th scope=col>&lt;chr&gt;</th><th scope=col>&lt;chr&gt;</th><th scope=col>&lt;dbl&gt;</th><th scope=col>&lt;dbl&gt;</th><th scope=col>&lt;chr&gt;</th><th scope=col>&lt;chr&gt;</th></tr>\n",
       "</thead>\n",
       "<tbody>\n",
       "\t<tr><td>R </td><td>175 min</td><td>1860471</td><td>9.2</td><td>(1972)</td><td>Crime, Drama              </td></tr>\n",
       "\t<tr><td>R </td><td>118 min</td><td>1435344</td><td>8.6</td><td>(1991)</td><td>Crime, Drama, Thriller    </td></tr>\n",
       "\t<tr><td>PG</td><td>124 min</td><td>1294805</td><td>8.7</td><td>(1980)</td><td>Action, Adventure, Fantasy</td></tr>\n",
       "\t<tr><td>⋮</td><td>⋮</td><td>⋮</td><td>⋮</td><td>⋮</td><td>⋮</td></tr>\n",
       "\t<tr><td>R</td><td>108 min</td><td>1011004</td><td>8.3</td><td>(2004)</td><td>Drama, Romance, Sci-Fi</td></tr>\n",
       "\t<tr><td>G</td><td>87 min </td><td> 186059</td><td>8.5</td><td>(1931)</td><td>Comedy, Drama, Romance</td></tr>\n",
       "\t<tr><td>R</td><td>136 min</td><td>1916083</td><td>8.7</td><td>(1999)</td><td>Action, Sci-Fi        </td></tr>\n",
       "</tbody>\n",
       "</table>\n"
      ],
      "text/latex": [
       "A tibble: 99 × 6\n",
       "\\begin{tabular}{llllll}\n",
       " category & run\\_time & votes & imdb\\_rating & year\\_of\\_release & genre\\\\\n",
       " <chr> & <chr> & <dbl> & <dbl> & <chr> & <chr>\\\\\n",
       "\\hline\n",
       "\t R  & 175 min & 1860471 & 9.2 & (1972) & Crime, Drama              \\\\\n",
       "\t R  & 118 min & 1435344 & 8.6 & (1991) & Crime, Drama, Thriller    \\\\\n",
       "\t PG & 124 min & 1294805 & 8.7 & (1980) & Action, Adventure, Fantasy\\\\\n",
       "\t ⋮ & ⋮ & ⋮ & ⋮ & ⋮ & ⋮\\\\\n",
       "\t R & 108 min & 1011004 & 8.3 & (2004) & Drama, Romance, Sci-Fi\\\\\n",
       "\t G & 87 min  &  186059 & 8.5 & (1931) & Comedy, Drama, Romance\\\\\n",
       "\t R & 136 min & 1916083 & 8.7 & (1999) & Action, Sci-Fi        \\\\\n",
       "\\end{tabular}\n"
      ],
      "text/markdown": [
       "\n",
       "A tibble: 99 × 6\n",
       "\n",
       "| category &lt;chr&gt; | run_time &lt;chr&gt; | votes &lt;dbl&gt; | imdb_rating &lt;dbl&gt; | year_of_release &lt;chr&gt; | genre &lt;chr&gt; |\n",
       "|---|---|---|---|---|---|\n",
       "| R  | 175 min | 1860471 | 9.2 | (1972) | Crime, Drama               |\n",
       "| R  | 118 min | 1435344 | 8.6 | (1991) | Crime, Drama, Thriller     |\n",
       "| PG | 124 min | 1294805 | 8.7 | (1980) | Action, Adventure, Fantasy |\n",
       "| ⋮ | ⋮ | ⋮ | ⋮ | ⋮ | ⋮ |\n",
       "| R | 108 min | 1011004 | 8.3 | (2004) | Drama, Romance, Sci-Fi |\n",
       "| G | 87 min  |  186059 | 8.5 | (1931) | Comedy, Drama, Romance |\n",
       "| R | 136 min | 1916083 | 8.7 | (1999) | Action, Sci-Fi         |\n",
       "\n"
      ],
      "text/plain": [
       "   category run_time votes   imdb_rating year_of_release\n",
       "1  R        175 min  1860471 9.2         (1972)         \n",
       "2  R        118 min  1435344 8.6         (1991)         \n",
       "3  PG       124 min  1294805 8.7         (1980)         \n",
       "⋮  ⋮        ⋮        ⋮       ⋮           ⋮              \n",
       "97 R        108 min  1011004 8.3         (2004)         \n",
       "98 G        87 min    186059 8.5         (1931)         \n",
       "99 R        136 min  1916083 8.7         (1999)         \n",
       "   genre                     \n",
       "1  Crime, Drama              \n",
       "2  Crime, Drama, Thriller    \n",
       "3  Action, Adventure, Fantasy\n",
       "⋮  ⋮                         \n",
       "97 Drama, Romance, Sci-Fi    \n",
       "98 Comedy, Drama, Romance    \n",
       "99 Action, Sci-Fi            "
      ]
     },
     "metadata": {},
     "output_type": "display_data"
    }
   ],
   "source": [
    "select_movies <- select(movies_csv, category, run_time, votes, imdb_rating, year_of_release, genre)\n",
    "select_movies"
   ]
  },
  {
   "cell_type": "code",
   "execution_count": 7,
   "id": "129c89e0-3844-4d66-ad12-a1dfe342e375",
   "metadata": {},
   "outputs": [
    {
     "data": {
      "text/html": [
       "<table class=\"dataframe\">\n",
       "<caption>A tibble: 91 × 6</caption>\n",
       "<thead>\n",
       "\t<tr><th scope=col>category</th><th scope=col>run_time</th><th scope=col>votes</th><th scope=col>imdb_rating</th><th scope=col>year_of_release</th><th scope=col>genre</th></tr>\n",
       "\t<tr><th scope=col>&lt;chr&gt;</th><th scope=col>&lt;chr&gt;</th><th scope=col>&lt;dbl&gt;</th><th scope=col>&lt;dbl&gt;</th><th scope=col>&lt;chr&gt;</th><th scope=col>&lt;chr&gt;</th></tr>\n",
       "</thead>\n",
       "<tbody>\n",
       "\t<tr><td>R </td><td>175 min</td><td>1860471</td><td>9.2</td><td>(1972)</td><td>Crime, Drama              </td></tr>\n",
       "\t<tr><td>R </td><td>118 min</td><td>1435344</td><td>8.6</td><td>(1991)</td><td>Crime, Drama, Thriller    </td></tr>\n",
       "\t<tr><td>PG</td><td>124 min</td><td>1294805</td><td>8.7</td><td>(1980)</td><td>Action, Adventure, Fantasy</td></tr>\n",
       "\t<tr><td>⋮</td><td>⋮</td><td>⋮</td><td>⋮</td><td>⋮</td><td>⋮</td></tr>\n",
       "\t<tr><td>R</td><td>108 min</td><td>1011004</td><td>8.3</td><td>(2004)</td><td>Drama, Romance, Sci-Fi</td></tr>\n",
       "\t<tr><td>G</td><td>87 min </td><td> 186059</td><td>8.5</td><td>(1931)</td><td>Comedy, Drama, Romance</td></tr>\n",
       "\t<tr><td>R</td><td>136 min</td><td>1916083</td><td>8.7</td><td>(1999)</td><td>Action, Sci-Fi        </td></tr>\n",
       "</tbody>\n",
       "</table>\n"
      ],
      "text/latex": [
       "A tibble: 91 × 6\n",
       "\\begin{tabular}{llllll}\n",
       " category & run\\_time & votes & imdb\\_rating & year\\_of\\_release & genre\\\\\n",
       " <chr> & <chr> & <dbl> & <dbl> & <chr> & <chr>\\\\\n",
       "\\hline\n",
       "\t R  & 175 min & 1860471 & 9.2 & (1972) & Crime, Drama              \\\\\n",
       "\t R  & 118 min & 1435344 & 8.6 & (1991) & Crime, Drama, Thriller    \\\\\n",
       "\t PG & 124 min & 1294805 & 8.7 & (1980) & Action, Adventure, Fantasy\\\\\n",
       "\t ⋮ & ⋮ & ⋮ & ⋮ & ⋮ & ⋮\\\\\n",
       "\t R & 108 min & 1011004 & 8.3 & (2004) & Drama, Romance, Sci-Fi\\\\\n",
       "\t G & 87 min  &  186059 & 8.5 & (1931) & Comedy, Drama, Romance\\\\\n",
       "\t R & 136 min & 1916083 & 8.7 & (1999) & Action, Sci-Fi        \\\\\n",
       "\\end{tabular}\n"
      ],
      "text/markdown": [
       "\n",
       "A tibble: 91 × 6\n",
       "\n",
       "| category &lt;chr&gt; | run_time &lt;chr&gt; | votes &lt;dbl&gt; | imdb_rating &lt;dbl&gt; | year_of_release &lt;chr&gt; | genre &lt;chr&gt; |\n",
       "|---|---|---|---|---|---|\n",
       "| R  | 175 min | 1860471 | 9.2 | (1972) | Crime, Drama               |\n",
       "| R  | 118 min | 1435344 | 8.6 | (1991) | Crime, Drama, Thriller     |\n",
       "| PG | 124 min | 1294805 | 8.7 | (1980) | Action, Adventure, Fantasy |\n",
       "| ⋮ | ⋮ | ⋮ | ⋮ | ⋮ | ⋮ |\n",
       "| R | 108 min | 1011004 | 8.3 | (2004) | Drama, Romance, Sci-Fi |\n",
       "| G | 87 min  |  186059 | 8.5 | (1931) | Comedy, Drama, Romance |\n",
       "| R | 136 min | 1916083 | 8.7 | (1999) | Action, Sci-Fi         |\n",
       "\n"
      ],
      "text/plain": [
       "   category run_time votes   imdb_rating year_of_release\n",
       "1  R        175 min  1860471 9.2         (1972)         \n",
       "2  R        118 min  1435344 8.6         (1991)         \n",
       "3  PG       124 min  1294805 8.7         (1980)         \n",
       "⋮  ⋮        ⋮        ⋮       ⋮           ⋮              \n",
       "89 R        108 min  1011004 8.3         (2004)         \n",
       "90 G        87 min    186059 8.5         (1931)         \n",
       "91 R        136 min  1916083 8.7         (1999)         \n",
       "   genre                     \n",
       "1  Crime, Drama              \n",
       "2  Crime, Drama, Thriller    \n",
       "3  Action, Adventure, Fantasy\n",
       "⋮  ⋮                         \n",
       "89 Drama, Romance, Sci-Fi    \n",
       "90 Comedy, Drama, Romance    \n",
       "91 Action, Sci-Fi            "
      ]
     },
     "metadata": {},
     "output_type": "display_data"
    }
   ],
   "source": [
    "filter_movies <- filter(select_movies, category != \"Approved\", category != \"Passed\", category != \"GP\", year_of_release != \"NA\", year_of_release != \"NAs\")\n",
    "filter_movies"
   ]
  },
  {
   "cell_type": "code",
   "execution_count": 15,
   "id": "41ee14d4-b3f9-48d2-a7db-c789f14cc9ae",
   "metadata": {},
   "outputs": [
    {
     "data": {
      "text/html": [
       "<table class=\"dataframe\">\n",
       "<caption>A tibble: 91 × 6</caption>\n",
       "<thead>\n",
       "\t<tr><th scope=col>category</th><th scope=col>run_time</th><th scope=col>votes</th><th scope=col>imdb_rating</th><th scope=col>year_of_release</th><th scope=col>genre</th></tr>\n",
       "\t<tr><th scope=col>&lt;fct&gt;</th><th scope=col>&lt;dbl&gt;</th><th scope=col>&lt;dbl&gt;</th><th scope=col>&lt;dbl&gt;</th><th scope=col>&lt;dbl&gt;</th><th scope=col>&lt;chr&gt;</th></tr>\n",
       "</thead>\n",
       "<tbody>\n",
       "\t<tr><td>R </td><td>175</td><td>1860471</td><td>9.2</td><td>1972</td><td>Crime, Drama              </td></tr>\n",
       "\t<tr><td>R </td><td>118</td><td>1435344</td><td>8.6</td><td>1991</td><td>Crime, Drama, Thriller    </td></tr>\n",
       "\t<tr><td>PG</td><td>124</td><td>1294805</td><td>8.7</td><td>1980</td><td>Action, Adventure, Fantasy</td></tr>\n",
       "\t<tr><td>⋮</td><td>⋮</td><td>⋮</td><td>⋮</td><td>⋮</td><td>⋮</td></tr>\n",
       "\t<tr><td>R</td><td>108</td><td>1011004</td><td>8.3</td><td>2004</td><td>Drama, Romance, Sci-Fi</td></tr>\n",
       "\t<tr><td>G</td><td> 87</td><td> 186059</td><td>8.5</td><td>1931</td><td>Comedy, Drama, Romance</td></tr>\n",
       "\t<tr><td>R</td><td>136</td><td>1916083</td><td>8.7</td><td>1999</td><td>Action, Sci-Fi        </td></tr>\n",
       "</tbody>\n",
       "</table>\n"
      ],
      "text/latex": [
       "A tibble: 91 × 6\n",
       "\\begin{tabular}{llllll}\n",
       " category & run\\_time & votes & imdb\\_rating & year\\_of\\_release & genre\\\\\n",
       " <fct> & <dbl> & <dbl> & <dbl> & <dbl> & <chr>\\\\\n",
       "\\hline\n",
       "\t R  & 175 & 1860471 & 9.2 & 1972 & Crime, Drama              \\\\\n",
       "\t R  & 118 & 1435344 & 8.6 & 1991 & Crime, Drama, Thriller    \\\\\n",
       "\t PG & 124 & 1294805 & 8.7 & 1980 & Action, Adventure, Fantasy\\\\\n",
       "\t ⋮ & ⋮ & ⋮ & ⋮ & ⋮ & ⋮\\\\\n",
       "\t R & 108 & 1011004 & 8.3 & 2004 & Drama, Romance, Sci-Fi\\\\\n",
       "\t G &  87 &  186059 & 8.5 & 1931 & Comedy, Drama, Romance\\\\\n",
       "\t R & 136 & 1916083 & 8.7 & 1999 & Action, Sci-Fi        \\\\\n",
       "\\end{tabular}\n"
      ],
      "text/markdown": [
       "\n",
       "A tibble: 91 × 6\n",
       "\n",
       "| category &lt;fct&gt; | run_time &lt;dbl&gt; | votes &lt;dbl&gt; | imdb_rating &lt;dbl&gt; | year_of_release &lt;dbl&gt; | genre &lt;chr&gt; |\n",
       "|---|---|---|---|---|---|\n",
       "| R  | 175 | 1860471 | 9.2 | 1972 | Crime, Drama               |\n",
       "| R  | 118 | 1435344 | 8.6 | 1991 | Crime, Drama, Thriller     |\n",
       "| PG | 124 | 1294805 | 8.7 | 1980 | Action, Adventure, Fantasy |\n",
       "| ⋮ | ⋮ | ⋮ | ⋮ | ⋮ | ⋮ |\n",
       "| R | 108 | 1011004 | 8.3 | 2004 | Drama, Romance, Sci-Fi |\n",
       "| G |  87 |  186059 | 8.5 | 1931 | Comedy, Drama, Romance |\n",
       "| R | 136 | 1916083 | 8.7 | 1999 | Action, Sci-Fi         |\n",
       "\n"
      ],
      "text/plain": [
       "   category run_time votes   imdb_rating year_of_release\n",
       "1  R        175      1860471 9.2         1972           \n",
       "2  R        118      1435344 8.6         1991           \n",
       "3  PG       124      1294805 8.7         1980           \n",
       "⋮  ⋮        ⋮        ⋮       ⋮           ⋮              \n",
       "89 R        108      1011004 8.3         2004           \n",
       "90 G         87       186059 8.5         1931           \n",
       "91 R        136      1916083 8.7         1999           \n",
       "   genre                     \n",
       "1  Crime, Drama              \n",
       "2  Crime, Drama, Thriller    \n",
       "3  Action, Adventure, Fantasy\n",
       "⋮  ⋮                         \n",
       "89 Drama, Romance, Sci-Fi    \n",
       "90 Comedy, Drama, Romance    \n",
       "91 Action, Sci-Fi            "
      ]
     },
     "metadata": {},
     "output_type": "display_data"
    },
    {
     "data": {
      "text/html": [
       "<table class=\"dataframe\">\n",
       "<caption>A tibble: 1 × 1</caption>\n",
       "<thead>\n",
       "\t<tr><th scope=col>.pred_class</th></tr>\n",
       "\t<tr><th scope=col>&lt;fct&gt;</th></tr>\n",
       "</thead>\n",
       "<tbody>\n",
       "\t<tr><td>R</td></tr>\n",
       "</tbody>\n",
       "</table>\n"
      ],
      "text/latex": [
       "A tibble: 1 × 1\n",
       "\\begin{tabular}{l}\n",
       " .pred\\_class\\\\\n",
       " <fct>\\\\\n",
       "\\hline\n",
       "\t R\\\\\n",
       "\\end{tabular}\n"
      ],
      "text/markdown": [
       "\n",
       "A tibble: 1 × 1\n",
       "\n",
       "| .pred_class &lt;fct&gt; |\n",
       "|---|\n",
       "| R |\n",
       "\n"
      ],
      "text/plain": [
       "  .pred_class\n",
       "1 R          "
      ]
     },
     "metadata": {},
     "output_type": "display_data"
    }
   ],
   "source": [
    "set.seed(9999) \n",
    "\n",
    "mutated_movies <- mutate(filter_movies, category = as_factor(category))\n",
    "changed_movies <- mutated_movies |>\n",
    "    mutate(run_time = str_replace_all(run_time, \"([min])\", \"\"))|>\n",
    "    mutate(run_time = as.numeric(run_time)) |>\n",
    "    mutate(year_of_release = str_replace_all(year_of_release, \"([()])\", \"\")) |>\n",
    "    mutate(year_of_release = as.numeric(year_of_release))\n",
    "\n",
    "changed_movies\n",
    "\n",
    "knn_spec_all <- nearest_neighbor(weight_func = \"rectangular\", neighbors = 11) |>\n",
    "       set_engine(\"kknn\") |>\n",
    "       set_mode(\"classification\")\n",
    "\n",
    "movies_data_recipe_all <- recipe(category ~ run_time + year_of_release + imdb_rating, data = changed_movies) |>\n",
    "                        step_scale(all_predictors()) |>\n",
    "                        step_center(all_predictors())\n",
    "\n",
    "movies_fit_all <- workflow() |>\n",
    "          add_recipe(movies_data_recipe_all) |>\n",
    "          add_model(knn_spec_all) |>\n",
    "          fit(data = changed_movies)\n",
    "\n",
    "new_movie <- tibble(run_time = 80, \n",
    "                            imdb_rating = 5,\n",
    "                            year_of_release = 1962)\n",
    "\n",
    "movie_all_predicted <- predict(movies_fit_all, new_movie)\n",
    "movie_all_predicted"
   ]
  },
  {
   "cell_type": "code",
   "execution_count": 16,
   "id": "7ee13d5a-5104-406a-ba4b-df1065bb85b2",
   "metadata": {},
   "outputs": [],
   "source": [
    "movies_split <- initial_split(changed_movies, prop = 0.75, strata = category)  \n",
    "movies_train <- training(movies_split)   "
   ]
  },
  {
   "cell_type": "code",
   "execution_count": 17,
   "id": "8d20620a-31c4-4df3-8f20-aef02cb5d635",
   "metadata": {},
   "outputs": [
    {
     "data": {
      "text/html": [
       "<table class=\"dataframe\">\n",
       "<caption>A tibble: 4 × 2</caption>\n",
       "<thead>\n",
       "\t<tr><th scope=col>category</th><th scope=col>count</th></tr>\n",
       "\t<tr><th scope=col>&lt;fct&gt;</th><th scope=col>&lt;int&gt;</th></tr>\n",
       "</thead>\n",
       "<tbody>\n",
       "\t<tr><td>R    </td><td>43</td></tr>\n",
       "\t<tr><td>PG   </td><td> 7</td></tr>\n",
       "\t<tr><td>PG-13</td><td>11</td></tr>\n",
       "\t<tr><td>G    </td><td> 6</td></tr>\n",
       "</tbody>\n",
       "</table>\n"
      ],
      "text/latex": [
       "A tibble: 4 × 2\n",
       "\\begin{tabular}{ll}\n",
       " category & count\\\\\n",
       " <fct> & <int>\\\\\n",
       "\\hline\n",
       "\t R     & 43\\\\\n",
       "\t PG    &  7\\\\\n",
       "\t PG-13 & 11\\\\\n",
       "\t G     &  6\\\\\n",
       "\\end{tabular}\n"
      ],
      "text/markdown": [
       "\n",
       "A tibble: 4 × 2\n",
       "\n",
       "| category &lt;fct&gt; | count &lt;int&gt; |\n",
       "|---|---|\n",
       "| R     | 43 |\n",
       "| PG    |  7 |\n",
       "| PG-13 | 11 |\n",
       "| G     |  6 |\n",
       "\n"
      ],
      "text/plain": [
       "  category count\n",
       "1 R        43   \n",
       "2 PG        7   \n",
       "3 PG-13    11   \n",
       "4 G         6   "
      ]
     },
     "metadata": {},
     "output_type": "display_data"
    }
   ],
   "source": [
    "movies_count <- nrow(movies_train)\n",
    "movies_train |>\n",
    "  group_by(category) |>\n",
    "  summarize(\n",
    "    count = n())"
   ]
  },
  {
   "cell_type": "code",
   "execution_count": 19,
   "id": "9499666a-ed7c-4d92-9c4f-be91dcd28295",
   "metadata": {},
   "outputs": [
    {
     "name": "stderr",
     "output_type": "stream",
     "text": [
      "\u001b[33m!\u001b[39m \u001b[33mFold1: internal:\n",
      "  No observations were detected in `truth` for level(s): 'G'\n",
      "  Computation will proceed by ignoring those levels.\u001b[39m\n",
      "\n",
      "\u001b[33m!\u001b[39m \u001b[33mFold2: internal:\n",
      "  No observations were detected in `truth` for level(s): 'G'\n",
      "  Computation will proceed by ignoring those levels.\u001b[39m\n",
      "\n"
     ]
    },
    {
     "data": {
      "text/html": [
       "<table class=\"dataframe\">\n",
       "<caption>A tibble: 10 × 7</caption>\n",
       "<thead>\n",
       "\t<tr><th scope=col>neighbors</th><th scope=col>.metric</th><th scope=col>.estimator</th><th scope=col>mean</th><th scope=col>n</th><th scope=col>std_err</th><th scope=col>.config</th></tr>\n",
       "\t<tr><th scope=col>&lt;dbl&gt;</th><th scope=col>&lt;chr&gt;</th><th scope=col>&lt;chr&gt;</th><th scope=col>&lt;dbl&gt;</th><th scope=col>&lt;int&gt;</th><th scope=col>&lt;dbl&gt;</th><th scope=col>&lt;chr&gt;</th></tr>\n",
       "</thead>\n",
       "<tbody>\n",
       "\t<tr><td> 6</td><td>accuracy</td><td>multiclass</td><td>0.6818681</td><td>5</td><td>0.037025793</td><td>Preprocessor1_Model02</td></tr>\n",
       "\t<tr><td> 1</td><td>accuracy</td><td>multiclass</td><td>0.6413919</td><td>5</td><td>0.053938895</td><td>Preprocessor1_Model01</td></tr>\n",
       "\t<tr><td>21</td><td>accuracy</td><td>multiclass</td><td>0.6366300</td><td>5</td><td>0.009701775</td><td>Preprocessor1_Model05</td></tr>\n",
       "\t<tr><td>⋮</td><td>⋮</td><td>⋮</td><td>⋮</td><td>⋮</td><td>⋮</td><td>⋮</td></tr>\n",
       "\t<tr><td>46</td><td>accuracy</td><td>multiclass</td><td>0.6366300</td><td>5</td><td>0.009701775</td><td>Preprocessor1_Model10</td></tr>\n",
       "\t<tr><td>16</td><td>accuracy</td><td>multiclass</td><td>0.6223443</td><td>5</td><td>0.015928802</td><td>Preprocessor1_Model04</td></tr>\n",
       "\t<tr><td>11</td><td>accuracy</td><td>multiclass</td><td>0.6212454</td><td>5</td><td>0.022231445</td><td>Preprocessor1_Model03</td></tr>\n",
       "</tbody>\n",
       "</table>\n"
      ],
      "text/latex": [
       "A tibble: 10 × 7\n",
       "\\begin{tabular}{lllllll}\n",
       " neighbors & .metric & .estimator & mean & n & std\\_err & .config\\\\\n",
       " <dbl> & <chr> & <chr> & <dbl> & <int> & <dbl> & <chr>\\\\\n",
       "\\hline\n",
       "\t  6 & accuracy & multiclass & 0.6818681 & 5 & 0.037025793 & Preprocessor1\\_Model02\\\\\n",
       "\t  1 & accuracy & multiclass & 0.6413919 & 5 & 0.053938895 & Preprocessor1\\_Model01\\\\\n",
       "\t 21 & accuracy & multiclass & 0.6366300 & 5 & 0.009701775 & Preprocessor1\\_Model05\\\\\n",
       "\t ⋮ & ⋮ & ⋮ & ⋮ & ⋮ & ⋮ & ⋮\\\\\n",
       "\t 46 & accuracy & multiclass & 0.6366300 & 5 & 0.009701775 & Preprocessor1\\_Model10\\\\\n",
       "\t 16 & accuracy & multiclass & 0.6223443 & 5 & 0.015928802 & Preprocessor1\\_Model04\\\\\n",
       "\t 11 & accuracy & multiclass & 0.6212454 & 5 & 0.022231445 & Preprocessor1\\_Model03\\\\\n",
       "\\end{tabular}\n"
      ],
      "text/markdown": [
       "\n",
       "A tibble: 10 × 7\n",
       "\n",
       "| neighbors &lt;dbl&gt; | .metric &lt;chr&gt; | .estimator &lt;chr&gt; | mean &lt;dbl&gt; | n &lt;int&gt; | std_err &lt;dbl&gt; | .config &lt;chr&gt; |\n",
       "|---|---|---|---|---|---|---|\n",
       "|  6 | accuracy | multiclass | 0.6818681 | 5 | 0.037025793 | Preprocessor1_Model02 |\n",
       "|  1 | accuracy | multiclass | 0.6413919 | 5 | 0.053938895 | Preprocessor1_Model01 |\n",
       "| 21 | accuracy | multiclass | 0.6366300 | 5 | 0.009701775 | Preprocessor1_Model05 |\n",
       "| ⋮ | ⋮ | ⋮ | ⋮ | ⋮ | ⋮ | ⋮ |\n",
       "| 46 | accuracy | multiclass | 0.6366300 | 5 | 0.009701775 | Preprocessor1_Model10 |\n",
       "| 16 | accuracy | multiclass | 0.6223443 | 5 | 0.015928802 | Preprocessor1_Model04 |\n",
       "| 11 | accuracy | multiclass | 0.6212454 | 5 | 0.022231445 | Preprocessor1_Model03 |\n",
       "\n"
      ],
      "text/plain": [
       "   neighbors .metric  .estimator mean      n std_err     .config              \n",
       "1   6        accuracy multiclass 0.6818681 5 0.037025793 Preprocessor1_Model02\n",
       "2   1        accuracy multiclass 0.6413919 5 0.053938895 Preprocessor1_Model01\n",
       "3  21        accuracy multiclass 0.6366300 5 0.009701775 Preprocessor1_Model05\n",
       "⋮  ⋮         ⋮        ⋮          ⋮         ⋮ ⋮           ⋮                    \n",
       "8  46        accuracy multiclass 0.6366300 5 0.009701775 Preprocessor1_Model10\n",
       "9  16        accuracy multiclass 0.6223443 5 0.015928802 Preprocessor1_Model04\n",
       "10 11        accuracy multiclass 0.6212454 5 0.022231445 Preprocessor1_Model03"
      ]
     },
     "metadata": {},
     "output_type": "display_data"
    }
   ],
   "source": [
    "movies_split <- initial_split(changed_movies, prop = 0.75, strata = category)\n",
    "training_movies <- training(movies_split)\n",
    "testing_movies <- testing(movies_split)\n",
    "\n",
    "knn_spec <- nearest_neighbor(weight_func = \"rectangular\", neighbors = tune()) |>\n",
    "    set_engine(\"kknn\") |>\n",
    "    set_mode(\"classification\")\n",
    "\n",
    "movies_recipe <- recipe(category ~ run_time + year_of_release + imdb_rating, data = changed_movies) |>\n",
    "    step_scale(all_predictors()) |>\n",
    "    step_center(all_predictors())\n",
    "\n",
    "movies_vfold <- vfold_cv(training_movies, v = 5, strata = category)\n",
    "\n",
    "grid_vals <- tibble(neighbors = seq(from = 1, to = 50, by = 5))\n",
    "\n",
    "knn_results <- workflow() |>\n",
    "    add_recipe(movies_recipe) |>\n",
    "    add_model(knn_spec) |>\n",
    "    tune_grid(resamples = movies_vfold, grid = grid_vals) |>\n",
    "    collect_metrics()\n",
    "\n",
    "accuracy <- knn_results |>\n",
    "    filter(.metric == \"accuracy\") |>\n",
    "    arrange(desc(mean))\n",
    "\n",
    "accuracy"
   ]
  }
 ],
 "metadata": {
  "kernelspec": {
   "display_name": "R",
   "language": "R",
   "name": "ir"
  },
  "language_info": {
   "codemirror_mode": "r",
   "file_extension": ".r",
   "mimetype": "text/x-r-source",
   "name": "R",
   "pygments_lexer": "r",
   "version": "4.1.3"
  }
 },
 "nbformat": 4,
 "nbformat_minor": 5
}
