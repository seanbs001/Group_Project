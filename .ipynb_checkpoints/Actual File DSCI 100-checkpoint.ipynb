{
 "cells": [
  {
   "cell_type": "markdown",
   "id": "33a6aeb6-1da1-4d9f-9a26-19c7bbab950b",
   "metadata": {
    "tags": []
   },
   "source": [
    "# Introduction"
   ]
  },
  {
   "cell_type": "markdown",
   "id": "3580238b-2390-4b40-8d97-a227ae5d0995",
   "metadata": {},
   "source": [
    "Some movies display intense violence, drug use, nudity, and harsh language, ergo it is crucial that parents are aware of the content before viewing a film with their child. That is why the widely adopted Classification and Rating Administration, or “CARA”, was developed by the Motion Picture Association in 1968: to inform parents of a movie content’s maturity by categorizing films into bins (*Motion Picture Association*, 2020). The bins are as follows:\n",
    "\n",
    "* **G** (General Audiences)\n",
    "* **PG** (Parental Guidance Suggested)\n",
    "* **PG-13** (Parents Strongly Cautioned)\n",
    "* **R** (Restricted)\n",
    "* **NC-17** (Adults Only)\n",
    "\n",
    "This discovery led us to inquire if a movie category could be predicted before officially being categorized. This might help CARA analysts better understand where a movie may fall before reviewing it. After exploring various options, this is the predictive question we designed.\n",
    "\n",
    "**Given a movie’s run time, votes, and IMDb rating, can we predict the category?**\n",
    "\n",
    "The dataset that will be used is called IMDb Top 100 Movies (Pathak, 2023). Using the list of the top 100 movies from 1972 to 2015 according to IMDb (*IMDb*, n.d.), we will predict movies’ category based on the variables stated above. The dataset can be found here: https://www.kaggle.com/datasets/themrityunjaypathak/imdb-top-100-movies."
   ]
  },
  {
   "cell_type": "markdown",
   "id": "cdfcd28a-0606-472e-8ea5-6042edf15a96",
   "metadata": {
    "tags": []
   },
   "source": [
    "# Preliminary exploratory data analysis"
   ]
  },
  {
   "cell_type": "markdown",
   "id": "fc560c1d-afc6-4fdd-84d0-1c13930ea49f",
   "metadata": {},
   "source": [
    "### Loading Libraries"
   ]
  },
  {
   "cell_type": "code",
   "execution_count": 1,
   "id": "97425d89-020b-4f22-83f2-a36dbdf675f2",
   "metadata": {},
   "outputs": [
    {
     "name": "stderr",
     "output_type": "stream",
     "text": [
      "── \u001b[1mAttaching packages\u001b[22m ─────────────────────────────────────── tidyverse 1.3.1 ──\n",
      "\n",
      "\u001b[32m✔\u001b[39m \u001b[34mggplot2\u001b[39m 3.3.6     \u001b[32m✔\u001b[39m \u001b[34mpurrr  \u001b[39m 0.3.4\n",
      "\u001b[32m✔\u001b[39m \u001b[34mtibble \u001b[39m 3.1.7     \u001b[32m✔\u001b[39m \u001b[34mdplyr  \u001b[39m 1.0.9\n",
      "\u001b[32m✔\u001b[39m \u001b[34mtidyr  \u001b[39m 1.2.0     \u001b[32m✔\u001b[39m \u001b[34mstringr\u001b[39m 1.4.0\n",
      "\u001b[32m✔\u001b[39m \u001b[34mreadr  \u001b[39m 2.1.2     \u001b[32m✔\u001b[39m \u001b[34mforcats\u001b[39m 0.5.1\n",
      "\n",
      "── \u001b[1mConflicts\u001b[22m ────────────────────────────────────────── tidyverse_conflicts() ──\n",
      "\u001b[31m✖\u001b[39m \u001b[34mdplyr\u001b[39m::\u001b[32mfilter()\u001b[39m masks \u001b[34mstats\u001b[39m::filter()\n",
      "\u001b[31m✖\u001b[39m \u001b[34mdplyr\u001b[39m::\u001b[32mlag()\u001b[39m    masks \u001b[34mstats\u001b[39m::lag()\n",
      "\n",
      "\n",
      "Attaching package: ‘rvest’\n",
      "\n",
      "\n",
      "The following object is masked from ‘package:readr’:\n",
      "\n",
      "    guess_encoding\n",
      "\n",
      "\n",
      "── \u001b[1mAttaching packages\u001b[22m ────────────────────────────────────── tidymodels 1.0.0 ──\n",
      "\n",
      "\u001b[32m✔\u001b[39m \u001b[34mbroom       \u001b[39m 1.0.0     \u001b[32m✔\u001b[39m \u001b[34mrsample     \u001b[39m 1.0.0\n",
      "\u001b[32m✔\u001b[39m \u001b[34mdials       \u001b[39m 1.0.0     \u001b[32m✔\u001b[39m \u001b[34mtune        \u001b[39m 1.0.0\n",
      "\u001b[32m✔\u001b[39m \u001b[34minfer       \u001b[39m 1.0.2     \u001b[32m✔\u001b[39m \u001b[34mworkflows   \u001b[39m 1.0.0\n",
      "\u001b[32m✔\u001b[39m \u001b[34mmodeldata   \u001b[39m 1.0.0     \u001b[32m✔\u001b[39m \u001b[34mworkflowsets\u001b[39m 1.0.0\n",
      "\u001b[32m✔\u001b[39m \u001b[34mparsnip     \u001b[39m 1.0.0     \u001b[32m✔\u001b[39m \u001b[34myardstick   \u001b[39m 1.0.0\n",
      "\u001b[32m✔\u001b[39m \u001b[34mrecipes     \u001b[39m 1.0.1     \n",
      "\n",
      "── \u001b[1mConflicts\u001b[22m ───────────────────────────────────────── tidymodels_conflicts() ──\n",
      "\u001b[31m✖\u001b[39m \u001b[34mscales\u001b[39m::\u001b[32mdiscard()\u001b[39m masks \u001b[34mpurrr\u001b[39m::discard()\n",
      "\u001b[31m✖\u001b[39m \u001b[34mdplyr\u001b[39m::\u001b[32mfilter()\u001b[39m   masks \u001b[34mstats\u001b[39m::filter()\n",
      "\u001b[31m✖\u001b[39m \u001b[34mrecipes\u001b[39m::\u001b[32mfixed()\u001b[39m  masks \u001b[34mstringr\u001b[39m::fixed()\n",
      "\u001b[31m✖\u001b[39m \u001b[34mdplyr\u001b[39m::\u001b[32mlag()\u001b[39m      masks \u001b[34mstats\u001b[39m::lag()\n",
      "\u001b[31m✖\u001b[39m \u001b[34myardstick\u001b[39m::\u001b[32mspec()\u001b[39m masks \u001b[34mreadr\u001b[39m::spec()\n",
      "\u001b[31m✖\u001b[39m \u001b[34mrecipes\u001b[39m::\u001b[32mstep()\u001b[39m   masks \u001b[34mstats\u001b[39m::step()\n",
      "\u001b[34m•\u001b[39m Learn how to get started at \u001b[32mhttps://www.tidymodels.org/start/\u001b[39m\n",
      "\n"
     ]
    },
    {
     "ename": "ERROR",
     "evalue": "Error in library(rjson): there is no package called ‘rjson’\n",
     "output_type": "error",
     "traceback": [
      "Error in library(rjson): there is no package called ‘rjson’\nTraceback:\n",
      "1. library(rjson)"
     ]
    }
   ],
   "source": [
    "library(tidyverse)\n",
    "library(stringr)\n",
    "library(repr)\n",
    "library(rvest)\n",
    "library(tidymodels)\n",
    "options(repr.matrix.max.rows = 6)\n",
    "library(rjson)\n",
    "source('tests.R')\n",
    "source(\"cleanup.R\")"
   ]
  },
  {
   "cell_type": "markdown",
   "id": "ccabbc42-e424-46fa-a7c9-6289e76c0c8c",
   "metadata": {},
   "source": [
    "### Reading and Tidying\n",
    "* The dataset we downloaded from the internet and loaded into R was from this link (https://www.kaggle.com/datasets/themrityunjaypathak/imdb-top-100-movies) and then downloaded to Jupyter as `movies.csv`.\n",
    "* We then will use `select` to choose the pertinent categories.\n",
    "* The `filter` command will exclude *approved*, *passed*, and *GP*, which are irrelevant observations to our analysis.\n",
    "* `Mutate` must be used to change the category to from the categoric type to the appropriate format, remove \"min\" from run time, and convert the run time to a numeric variable."
   ]
  },
  {
   "cell_type": "code",
   "execution_count": null,
   "id": "3422b797-ab17-4a73-9c4b-ffcd2a4e88be",
   "metadata": {},
   "outputs": [],
   "source": [
    "library(rvest)\n",
    "names <- c(\"index\", \"movie_name\", \"year_of_release\", \"category\", \"run_time\", \"genre\", \"imdb_rating\", \"votes\", \"gross_total\")\n",
    "movies <- read_csv(url(\"https://www.kaggle.com/datasets/themrityunjaypathak/imdb-top-100-movies\", col_names = names)) |>\n",
    "mutate(index = as_factor(index))\n",
    "movies_data <- xmlToDataFrame(movies)\n",
    "movies_data\n",
    "#population_nodes <- html_nodes(page, selectors)\n",
    "#head(population_nodes)\n",
    "#select_movies <- select(movies_data, category, run_time, votes, imdb_rating)\n",
    "#filter_movies <- filter(select_movies, category != \"Approved\", category != \"Passed\", category != \"GP\")\n",
    "#mutated_movies <- mutate(filter_movies, category = as_factor(category))\n",
    "#changed_movies <- mutated_movies |>\n",
    "#    mutate(run_time = str_replace_all(run_time, \"([min])\", \"\"))|>\n",
    "#    mutate(run_time = as.numeric(run_time)) |>\n",
    "#    mutate(votes = votes/1000000)\n",
    "#changed_movies"
   ]
  },
  {
   "cell_type": "markdown",
   "id": "839d74dd-4649-48d5-b48d-19343c336f0f",
   "metadata": {},
   "source": [
    "### Splitting\n",
    "\n",
    "* We decided to allocate 75% of the data to training and 25% to testing. \n",
    "* This is a favorable split of our 91 rows because it will allow for higher accuracy when testing."
   ]
  },
  {
   "cell_type": "code",
   "execution_count": null,
   "id": "f3ceffc5-ff4f-4e77-9322-069ac40a9365",
   "metadata": {},
   "outputs": [],
   "source": [
    "set.seed(2019)\n",
    "movies_split <- initial_split(changed_movies, prop = 0.75, strata = category)  \n",
    "movies_train <- training(movies_split)   \n",
    "movies_test <- testing(movies_split)\n",
    "movies_train"
   ]
  },
  {
   "cell_type": "markdown",
   "id": "56908e26-da4b-48dd-aa1e-8928079ac444",
   "metadata": {},
   "source": [
    "### Summary Table\n",
    "\n",
    "This table shows the number of observations in each category of the training data. "
   ]
  },
  {
   "cell_type": "code",
   "execution_count": null,
   "id": "dc52d709-dc0f-4233-8b25-52f2d0c81806",
   "metadata": {},
   "outputs": [],
   "source": [
    "set.seed(2019)\n",
    "movies_count <- nrow(movies_train)\n",
    "movies_train |>\n",
    "  group_by(category) |>\n",
    "  summarize(count = n())"
   ]
  },
  {
   "cell_type": "markdown",
   "id": "311e440c-1bcc-46a4-8886-5685a74cbae4",
   "metadata": {},
   "source": [
    "### Plotting our Analysis\n",
    "\n",
    "The relationship between variables and the category can be seen below, color coded by category. The first graph shows a somewhat positive relationship between votes and IMDb rating. The second graph lacks a clear association between run time and IMDb rating."
   ]
  },
  {
   "cell_type": "code",
   "execution_count": null,
   "id": "15097c96-39ae-46fc-a5e9-2b2240b51c8a",
   "metadata": {},
   "outputs": [],
   "source": [
    "set.seed(2019)\n",
    "options(repr.plot.height = 8, repr.plot.width = 20)\n",
    "movies_plot_1 <- ggplot(changed_movies, aes(x = votes, y = imdb_rating))+\n",
    "    geom_point(aes(color = category))+\n",
    "    geom_ellipse()+\n",
    "    ggtitle(\"Votes' affect on IMDB Rating color coded by Category\") +\n",
    "    labs(x = \"Votes (millions)\", y = \"IMDB Rating (scale of 1 to 10)\", color = \"Cateory\")+\n",
    "    theme(text = element_text(size = 18))\n",
    "\n",
    "movies_plot_2 <- ggplot(changed_movies, aes(x = run_time, y = imdb_rating))+\n",
    "    geom_point(aes(color = category))+\n",
    "    geom_ellipse()+\n",
    "    ggtitle(\"Run Time's affect on IMDB Rating color coded by Category\") +\n",
    "    labs(x = \"Run Time (minutes)\", y = \"IMDB Rating (scale of 1 to 10)\", color = \"Cateory\")+\n",
    "    theme(text = element_text(size = 18))\n",
    "\n",
    "require(gridExtra)\n",
    "grid.arrange(movies_plot_1, movies_plot_2, ncol=2)"
   ]
  },
  {
   "cell_type": "markdown",
   "id": "2d41a9c3-11aa-4980-8ad6-2bfda13638d5",
   "metadata": {
    "tags": []
   },
   "source": [
    "# Methods"
   ]
  },
  {
   "cell_type": "markdown",
   "id": "c1159479-a5ae-4631-80cc-e773f6926577",
   "metadata": {},
   "source": [
    "### Conducting the Analysis"
   ]
  },
  {
   "cell_type": "markdown",
   "id": "35c41513-811f-44dd-a3e5-abd367c798ec",
   "metadata": {},
   "source": [
    "Using KNN classification, we plan to use nearest neighbors to categorize observations into the appropriate CARA category given the *IMDb rating*, *run time*, and *votes*. We decided to use these three columns because they were numerical data, which are easier to analyze. The other numerical column, *year of release*, doesn't show a clear connection with the category of a movie. The columns *movie name* and *genre* are not numerical, which is harder to analyze. Given that the data is split into training and testing, we will then be able to test the accuracy of the model."
   ]
  },
  {
   "cell_type": "markdown",
   "id": "9a0ab214-f5cc-4429-8f0e-6359005a302f",
   "metadata": {},
   "source": [
    "### Visualizing the Results"
   ]
  },
  {
   "cell_type": "markdown",
   "id": "16badfa6-e2f0-41c5-8821-3df78c14376a",
   "metadata": {},
   "source": [
    "One way that we plan to visualize the results is by comparing the accuracy to the number of neighbors (K) to find the optimal quantity. We will do this by completing the following steps.\n",
    "\n",
    "1. Setting up nearest neighbors and tuning them to the optimal amount.\n",
    "2. Designing the recipe and using predictors through `step_scale` and `step_center`.\n",
    "3. Utilizing `vfold_cv` and creating a neighbor’s sequence for it to increase by in the chart (i.e., 5).\n",
    "4. Creating a workflow and including `collect_metrics()`.\n",
    "5. Filtering the accuracy from the results with `.metric` and arranging them in descending order.\n",
    "6. Constructing a scatterplot to compare *Number of Nearest Neighbors (K)* to *Accuracy Estimate*.\n",
    "7. Concluding which K value we want to use based on the graph."
   ]
  },
  {
   "cell_type": "markdown",
   "id": "0441506e-1a05-4008-9b3c-99741d904a2f",
   "metadata": {},
   "source": [
    "# Expected outcomes and significance"
   ]
  },
  {
   "cell_type": "markdown",
   "id": "99aea247-968e-414c-94c6-b514d500aba7",
   "metadata": {},
   "source": [
    "### What do you expect to find?\n",
    "\n",
    "We anticipate that the model will predict movie categories with moderate accuracy. After the model is trained and tested, our hope is that CARA could use this or a similar system to increase efficiency, and along the way, improve the model's accuracy."
   ]
  },
  {
   "cell_type": "markdown",
   "id": "38cfdd25-796b-4d1c-97be-dd71158831e7",
   "metadata": {},
   "source": [
    "### What impact could such findings have?\n",
    "\n",
    "This could impact the speed in which movie categories are predicted. With further development and as accuracy increases with more training data, CARA could rely solely on this system to predict in which bin a movie would fall. This development would save money and allow for more movies to be rated."
   ]
  },
  {
   "cell_type": "markdown",
   "id": "f2464698-6064-417e-8bfb-4a53d1b6e493",
   "metadata": {},
   "source": [
    "### What future questions could this lead to?\n",
    "\n",
    "1. To what degree could a reputable rating system like CARA rely on this prediction model with its current accuracy?\n",
    "2. How frequently would the model need to be updated to maintain accuracy for new movies as popularity and run time for various categories change?\n",
    "3. How will this affect jobs of CARA analysts? "
   ]
  },
  {
   "cell_type": "markdown",
   "id": "a428672a-cc87-4f93-bfde-b008ec899cbb",
   "metadata": {},
   "source": [
    "# References"
   ]
  },
  {
   "cell_type": "markdown",
   "id": "11f39cbe-724f-4ab2-890a-2c98c264cf9b",
   "metadata": {},
   "source": [
    "Film ratings. Motion Picture Association. (2020, April 30). Retrieved March 11, 2023, from\n",
    "https://www.motionpictures.org/film-ratings/ \n",
    "\n",
    "IMDb. (2023, February 15). IMDb Ratings FAQ. IMDb. Retrieved March 11, 2023, from\n",
    "https://help.imdb.com/article/imdb/track-movies-tv/ratings-faq/G67Y87TFYYP6TWAV# \n",
    "\n",
    "IMDb. (n.d.). Ratings, reviews, and where to watch the best movies &amp; TV shows. IMDb. Retrieved March 11, 2023, from\n",
    "https://www.imdb.com/ \n",
    "\n",
    "Lemoine, A. (2021, January 19). What does 'IMDB' mean? Dictionary.com. Retrieved March 11, 2023, from\n",
    "https://www.dictionary.com/e/acronyms/imdb/ \n",
    "\n",
    "MPA Film Ratings History. The Classification and Rating System (CARA). (n.d.). Retrieved March 11, 2023, from\n",
    "https://50th.filmratings.com/core/ \n",
    "\n",
    "Pathak, M. (2023, January 11). IMDb top 100 movies. Kaggle. Retrieved March 11, 2023, from\n",
    "https://www.kaggle.com/datasets/themrityunjaypathak/imdb-top-100-movies "
   ]
  }
 ],
 "metadata": {
  "kernelspec": {
   "display_name": "R",
   "language": "R",
   "name": "ir"
  },
  "language_info": {
   "codemirror_mode": "r",
   "file_extension": ".r",
   "mimetype": "text/x-r-source",
   "name": "R",
   "pygments_lexer": "r",
   "version": "4.1.3"
  }
 },
 "nbformat": 4,
 "nbformat_minor": 5
}
