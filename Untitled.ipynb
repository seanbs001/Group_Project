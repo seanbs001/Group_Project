{
 "cells": [
  {
   "cell_type": "code",
   "execution_count": null,
   "id": "d91d5349-513d-431e-8793-5d5718ceede3",
   "metadata": {},
   "outputs": [],
   "source": [
    "Group Project Test"
   ]
  }
 ],
 "metadata": {
  "kernelspec": {
   "display_name": "R",
   "language": "R",
   "name": "ir"
  },
  "language_info": {
   "codemirror_mode": "r",
   "file_extension": ".r",
   "mimetype": "text/x-r-source",
   "name": "R",
   "pygments_lexer": "r",
   "version": "4.1.3"
  }
 },
 "nbformat": 4,
 "nbformat_minor": 5
}
